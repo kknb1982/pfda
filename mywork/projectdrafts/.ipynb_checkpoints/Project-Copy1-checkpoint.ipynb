{
 "cells": [
  {
   "cell_type": "markdown",
   "id": "95a35361-eb52-4fb6-8dfd-537d9f39b4d5",
   "metadata": {},
   "source": [
    "# Assessing suitability of a location for thermal property glass"
   ]
  },
  {
   "cell_type": "markdown",
   "id": "4c81b13b-3a07-4fce-9297-fe562736444a",
   "metadata": {},
   "source": [
    "## Introduction"
   ]
  },
  {
   "cell_type": "markdown",
   "id": "8e47271f-f5d4-460d-91d7-5a3ed9d34b9d",
   "metadata": {},
   "source": [
    "## Import needed tools"
   ]
  },
  {
   "cell_type": "code",
   "execution_count": 1,
   "id": "a38678af-59c2-45f7-b8be-9e490c370c59",
   "metadata": {},
   "outputs": [],
   "source": [
    "import pandas as pd\n",
    "import matplotlib.pyplot as plt\n",
    "import seaborn as sns"
   ]
  },
  {
   "cell_type": "markdown",
   "id": "a03115e6-5042-4f24-b518-5c751bb8ba60",
   "metadata": {},
   "source": [
    "## Read in the weather station data"
   ]
  },
  {
   "cell_type": "code",
   "execution_count": 2,
   "id": "b8a26b5f-5c19-4c55-826e-a669d86a06cc",
   "metadata": {},
   "outputs": [],
   "source": [
    "df = pd.read_json(\"https://bulk.meteostat.net/v2/stations/lite.json.gz\")"
   ]
  },
  {
   "cell_type": "code",
   "execution_count": 3,
   "id": "f2d2b21a-47a8-44d0-8b1a-7df8ba7ff60c",
   "metadata": {},
   "outputs": [
    {
     "name": "stdout",
     "output_type": "stream",
     "text": [
      "      id                   name country region  \\\n",
      "0  00FAY  {'en': 'Holden Agdm'}      CA     AB   \n",
      "1  00TG6  {'en': 'Athabasca 1'}      CA     AB   \n",
      "2  01001    {'en': 'Jan Mayen'}      NO   None   \n",
      "3  01002     {'en': 'Grahuken'}      NO     SJ   \n",
      "4  01003     {'en': 'Hornsund'}      NO   None   \n",
      "\n",
      "                                         identifiers  \\\n",
      "0  {'national': '32395', 'wmo': '71227', 'icao': ...   \n",
      "1    {'national': '2459', 'wmo': None, 'icao': None}   \n",
      "2  {'national': None, 'wmo': '01001', 'icao': 'EN...   \n",
      "3   {'national': None, 'wmo': '01002', 'icao': None}   \n",
      "4   {'national': None, 'wmo': '01003', 'icao': None}   \n",
      "\n",
      "                                            location          timezone  \\\n",
      "0  {'latitude': 53.19, 'longitude': -112.25, 'ele...  America/Edmonton   \n",
      "1  {'latitude': 54.72, 'longitude': -113.29, 'ele...  America/Edmonton   \n",
      "2  {'latitude': 70.9333, 'longitude': -8.6667, 'e...       Europe/Oslo   \n",
      "3  {'latitude': 79.7833, 'longitude': 14.4667, 'e...       Europe/Oslo   \n",
      "4  {'latitude': 77.0, 'longitude': 15.5, 'elevati...       Europe/Oslo   \n",
      "\n",
      "                                           inventory  \n",
      "0  {'model': {'start': '2021-07-13', 'end': '2024...  \n",
      "1  {'model': {'start': '2021-07-13', 'end': '2024...  \n",
      "2  {'model': {'start': '2018-01-28', 'end': '2024...  \n",
      "3  {'model': {'start': '2021-07-05', 'end': '2024...  \n",
      "4  {'model': {'start': '2021-01-01', 'end': '2024...  \n"
     ]
    }
   ],
   "source": [
    "print(df.head(5))"
   ]
  },
  {
   "cell_type": "markdown",
   "id": "2afc2060-d967-4d70-acd7-a0c908c125e3",
   "metadata": {},
   "source": [
    "### Read in data to translate the country and region codes to names"
   ]
  },
  {
   "cell_type": "code",
   "execution_count": 15,
   "id": "8f11eb30-d972-4fdf-a47e-f5e76c552987",
   "metadata": {},
   "outputs": [
    {
     "name": "stdout",
     "output_type": "stream",
     "text": [
      "<bound method DataFrame.info of      #country_code_alpha2 subdivision_code_iso3166-2    subdivision_name  \\\n",
      "0                      AD                      AD-07    Andorra la Vella   \n",
      "1                      AD                      AD-02             Canillo   \n",
      "2                      AD                      AD-03              Encamp   \n",
      "3                      AD                      AD-08  Escaldes-Engordany   \n",
      "4                      AD                      AD-04          La Massana   \n",
      "...                   ...                        ...                 ...   \n",
      "6255                   ZW                      ZW-MW    Mashonaland West   \n",
      "6256                   ZW                      ZW-MV            Masvingo   \n",
      "6257                   ZW                      ZW-MN  Matabeleland North   \n",
      "6258                   ZW                      ZW-MS  Matabeleland South   \n",
      "6259                   ZW                      ZW-MI            Midlands   \n",
      "\n",
      "     language_code parent_subdivision  category localVariant  \n",
      "0               ca                NaN    PARISH          NaN  \n",
      "1               ca                NaN    PARISH          NaN  \n",
      "2               ca                NaN    PARISH          NaN  \n",
      "3               ca                NaN    PARISH          NaN  \n",
      "4               ca                NaN    PARISH          NaN  \n",
      "...            ...                ...       ...          ...  \n",
      "6255            en                NaN  PROVINCE          NaN  \n",
      "6256            en                NaN  PROVINCE          NaN  \n",
      "6257            en                NaN  PROVINCE          NaN  \n",
      "6258            en                NaN  PROVINCE          NaN  \n",
      "6259            en                NaN  PROVINCE          NaN  \n",
      "\n",
      "[6260 rows x 7 columns]>\n"
     ]
    }
   ],
   "source": [
    "dflocation = pd.read_csv(\"subdivisions.csv\")\n",
    "print(dflocation.info)"
   ]
  },
  {
   "cell_type": "markdown",
   "id": "0ad582f1-efd7-4add-a1ab-294653bdb97d",
   "metadata": {},
   "source": [
    "### Create variables to make it easier to choose the country and region of interest"
   ]
  },
  {
   "cell_type": "code",
   "execution_count": 5,
   "id": "f450c211-2b55-439d-9909-bcf55c04b004",
   "metadata": {},
   "outputs": [
    {
     "name": "stdout",
     "output_type": "stream",
     "text": [
      "['AB' None 'SJ' ... 'LOR' 'CAJ' 'JUN']\n"
     ]
    }
   ],
   "source": [
    "country = df['country'].unique()\n",
    "region = df['region'].unique()\n",
    "print(region)"
   ]
  },
  {
   "cell_type": "markdown",
   "id": "c9d3646b-6f11-44ae-ad9c-edb6855cb5aa",
   "metadata": {},
   "source": [
    "## Prompt user to request the location of interest\n"
   ]
  },
  {
   "cell_type": "code",
   "execution_count": 10,
   "id": "5e6adf04-a565-42e2-98d7-195f885f6ace",
   "metadata": {},
   "outputs": [
    {
     "name": "stdout",
     "output_type": "stream",
     "text": [
      "['CA' 'NO' 'SE' 'FI' 'DE' 'GB' 'IE' 'IS' 'GL' 'US' 'DK' 'NL' 'BE' 'LU'\n",
      " 'CH' 'CN' 'LI' 'FR' 'PT' 'ES' 'GI' 'CV' 'AT' 'CZ' 'SK' 'PL' 'HU' 'RS'\n",
      " 'SI' 'HR' 'BA' 'CS' 'MK' 'AL' 'RO' 'BG' 'IT' 'MT' 'GR' 'TR' 'CY' 'RU'\n",
      " 'EE' 'LV' 'LT' 'BY' 'KZ' 'UA' 'MD' 'KG' 'GE' 'AZ' 'AM' 'UZ' 'TM' 'TJ'\n",
      " 'SY' 'LB' 'IL' 'JO' 'SA' 'KW' 'IQ' 'IR' 'AF' 'BH' 'QA' 'AE' 'OM' 'YE'\n",
      " 'PK' 'BD' 'IN' 'LK' 'MV' 'MN' 'NP' 'HK' 'MO' 'TW' 'KP' 'KR' 'JP' 'MM'\n",
      " 'TH' 'MY' 'SG' 'VN' 'LA' 'KH' 'MA' 'EH' 'DZ' 'TN' 'NE' 'ML' 'MR' 'SN'\n",
      " 'GM' 'GW' 'GN' 'SL' 'SH' 'ST' 'IO' 'RE' 'MU' 'TF' 'LY' 'EG' 'SD' 'ER'\n",
      " 'ET' 'DJ' 'SO' 'UG' 'KE' 'TZ' 'SC' 'CD' 'RW' 'BI' 'CG' 'GA' 'CF' 'TD'\n",
      " 'GQ' 'CM' 'NG' 'BJ' 'TG' 'GH' 'BF' 'CI' 'LR' 'AO' 'KM' 'MG' 'MZ' 'ZM'\n",
      " 'MW' 'ZW' 'NA' 'BW' 'ZA' 'SZ' 'LS' 'BV' 'CO' 'PM' 'MX' 'BM' 'BS' 'TC'\n",
      " 'CU' 'KY' 'JM' 'HT' 'DO' 'HN' 'PR' 'VI' 'VG' 'BZ' 'GT' 'SV' 'NI' 'CR'\n",
      " 'PA' 'KN' 'AG' 'AN' 'GP' 'DM' 'MQ' 'LC' 'VC' 'BB' 'GD' 'TT' 'AW' 'VE'\n",
      " 'GY' 'SR' 'GF' 'BR' 'EC' 'PE' 'BO' 'CL' 'PY' 'UY' 'AR' 'FK' 'AQ' 'FM'\n",
      " 'UM' 'MH' 'KI' 'PW' 'NZ' 'SB' 'NR' 'VU' 'NC' 'TV' 'FJ' 'TK' 'WS' 'TO'\n",
      " 'CK' 'PF' 'PN' 'PG' 'AU' 'NF' 'ID' 'BN' 'TL' 'PH' 'XA' 'XK' 'MS' 'BT']\n"
     ]
    },
    {
     "name": "stdin",
     "output_type": "stream",
     "text": [
      "Enter the country of interest:  ES\n"
     ]
    }
   ],
   "source": [
    "print(country)\n",
    "chosencountry = input(\"Enter the country of interest: \")"
   ]
  },
  {
   "cell_type": "code",
   "execution_count": 11,
   "id": "1489e8d8-5b44-49e1-ab63-dc54bfe6a385",
   "metadata": {},
   "outputs": [],
   "source": [
    "countrydf = df[df['country'] == 'chosencountry']"
   ]
  },
  {
   "cell_type": "code",
   "execution_count": null,
   "id": "3aa60d29-88c9-4bac-9610-346e9c781fdc",
   "metadata": {},
   "outputs": [
    {
     "name": "stdout",
     "output_type": "stream",
     "text": [
      "[]\n"
     ]
    }
   ],
   "source": [
    "region = countrydf['region'].unique()\n",
    "print(region)\n"
   ]
  },
  {
   "cell_type": "code",
   "execution_count": null,
   "id": "0a861d8c-ad60-498b-8c8e-dd26b70f46c4",
   "metadata": {},
   "outputs": [],
   "source": [
    "chosenregion = input(\"Enter the region of interest: \")"
   ]
  },
  {
   "cell_type": "markdown",
   "id": "f791f187-9843-4044-a28e-e18ca25e3094",
   "metadata": {},
   "source": [
    "## Create a new dataframe of the weather stations in the country and region of interest"
   ]
  },
  {
   "cell_type": "code",
   "execution_count": 9,
   "id": "5d6b7885-247d-4b44-a3b5-b4c62a952796",
   "metadata": {},
   "outputs": [
    {
     "name": "stdout",
     "output_type": "stream",
     "text": [
      "<bound method NDFrame.head of           id                           name country region  \\\n",
      "1211   0CNUO          {'en': 'Rawson Lake'}      CA     ON   \n",
      "1212   0CO7B       {'en': 'Kingsville Moe'}      CA     ON   \n",
      "1216   0FV1F     {'en': 'Tillsonburg Wwtp'}      CA     ON   \n",
      "1217   0FV2W         {'en': 'Mountainview'}      CA     ON   \n",
      "1549   10RIK       {'en': 'Brockville Pcc'}      CA     ON   \n",
      "...      ...                            ...     ...    ...   \n",
      "15791  Y7KHS     {'en': 'Red Lake Airport'}      CA     ON   \n",
      "15869  ZFS01   {'en': 'Lyndhurst Shawmere'}      CA     ON   \n",
      "15898  ZSOGU  {'en': 'Pickle Lake Airport'}      CA     ON   \n",
      "15912  ZWC6W  {'en': 'Kapuskasing Airport'}      CA     ON   \n",
      "15917  ZYC17     {'en': 'Kingston Airport'}      CA     ON   \n",
      "\n",
      "                                            identifiers  \\\n",
      "1211    {'national': '3966', 'wmo': None, 'icao': None}   \n",
      "1212    {'national': '4647', 'wmo': None, 'icao': None}   \n",
      "1216    {'national': '4699', 'wmo': None, 'icao': None}   \n",
      "1217    {'national': '4838', 'wmo': None, 'icao': None}   \n",
      "1549    {'national': '4236', 'wmo': None, 'icao': None}   \n",
      "...                                                 ...   \n",
      "15791  {'national': '52419', 'wmo': None, 'icao': None}   \n",
      "15869   {'national': '4308', 'wmo': None, 'icao': None}   \n",
      "15898  {'national': '52418', 'wmo': None, 'icao': None}   \n",
      "15912  {'national': '54260', 'wmo': None, 'icao': None}   \n",
      "15917  {'national': '52985', 'wmo': None, 'icao': None}   \n",
      "\n",
      "                                                location             timezone  \\\n",
      "1211   {'latitude': 49.65, 'longitude': -93.72, 'elev...  America/Rainy_River   \n",
      "1212   {'latitude': 42.04, 'longitude': -82.67, 'elev...      America/Toronto   \n",
      "1216   {'latitude': 42.86, 'longitude': -80.72, 'elev...      America/Toronto   \n",
      "1217   {'latitude': 44.05, 'longitude': -77.3, 'eleva...      America/Toronto   \n",
      "1549   {'latitude': 44.6, 'longitude': -75.67, 'eleva...      America/Toronto   \n",
      "...                                                  ...                  ...   \n",
      "15791  {'latitude': 51.07, 'longitude': -93.79, 'elev...     America/Winnipeg   \n",
      "15869  {'latitude': 44.52, 'longitude': -76.08, 'elev...      America/Toronto   \n",
      "15898  {'latitude': 51.45, 'longitude': -90.21, 'elev...     America/Atikokan   \n",
      "15912  {'latitude': 49.41, 'longitude': -82.47, 'elev...      America/Toronto   \n",
      "15917  {'latitude': 44.23, 'longitude': -76.6, 'eleva...      America/Toronto   \n",
      "\n",
      "                                               inventory  \n",
      "1211   {'model': {'start': '2021-07-14', 'end': '2024...  \n",
      "1212   {'model': {'start': '2021-07-14', 'end': '2024...  \n",
      "1216   {'model': {'start': '2021-07-14', 'end': '2024...  \n",
      "1217   {'model': {'start': '2021-07-15', 'end': '2021...  \n",
      "1549   {'model': {'start': '2021-07-14', 'end': '2024...  \n",
      "...                                                  ...  \n",
      "15791  {'model': {'start': '2021-07-14', 'end': '2024...  \n",
      "15869  {'model': {'start': '2021-07-14', 'end': '2024...  \n",
      "15898  {'model': {'start': '2021-07-14', 'end': '2024...  \n",
      "15912  {'model': {'start': '2021-07-14', 'end': '2024...  \n",
      "15917  {'model': {'start': '2021-07-14', 'end': '2024...  \n",
      "\n",
      "[267 rows x 8 columns]>\n"
     ]
    }
   ],
   "source": [
    "areaofinterest = df[df[\"region\"] == chosenregion]\n",
    "print(areaofinterest.head)"
   ]
  },
  {
   "cell_type": "code",
   "execution_count": null,
   "id": "c7571855-cc0e-4473-9dce-1fab7e1b77b5",
   "metadata": {},
   "outputs": [],
   "source": []
  },
  {
   "cell_type": "markdown",
   "id": "93c52c3a-a81f-4f5d-8424-445a496eccc0",
   "metadata": {},
   "source": [
    "## Weather station data for weather station 1212"
   ]
  },
  {
   "cell_type": "code",
   "execution_count": null,
   "id": "54620f36-88aa-40cb-82ab-8acacd4959a5",
   "metadata": {},
   "outputs": [],
   "source": [
    "canada = df[df['country'] == 'CA']\n",
    "region = canada['region'].unique()\n",
    "print(canada.columns)\n",
    "print(region)\n",
    "\n",
    "chosenregion = \"ON\"\n",
    "areaofinterest = canada[canada[\"region\"] == chosenregion]\n",
    "print(areaofinterest.head(10))"
   ]
  },
  {
   "cell_type": "code",
   "execution_count": null,
   "id": "8cc60caf-cca0-4508-897f-ed2399cf5244",
   "metadata": {},
   "outputs": [],
   "source": []
  }
 ],
 "metadata": {
  "kernelspec": {
   "display_name": "Python 3 (ipykernel)",
   "language": "python",
   "name": "python3"
  },
  "language_info": {
   "codemirror_mode": {
    "name": "ipython",
    "version": 3
   },
   "file_extension": ".py",
   "mimetype": "text/x-python",
   "name": "python",
   "nbconvert_exporter": "python",
   "pygments_lexer": "ipython3",
   "version": "3.12.4"
  }
 },
 "nbformat": 4,
 "nbformat_minor": 5
}
