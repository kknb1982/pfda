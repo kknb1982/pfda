{
 "cells": [
  {
   "cell_type": "markdown",
   "id": "95a35361-eb52-4fb6-8dfd-537d9f39b4d5",
   "metadata": {},
   "source": [
    "# Assessing suitability of a location for thermal property glass"
   ]
  },
  {
   "cell_type": "markdown",
   "id": "4c81b13b-3a07-4fce-9297-fe562736444a",
   "metadata": {},
   "source": [
    "## Introduction"
   ]
  },
  {
   "cell_type": "markdown",
   "id": "8e47271f-f5d4-460d-91d7-5a3ed9d34b9d",
   "metadata": {},
   "source": [
    "## Import needed tools"
   ]
  },
  {
   "cell_type": "code",
   "execution_count": 80,
   "id": "a38678af-59c2-45f7-b8be-9e490c370c59",
   "metadata": {},
   "outputs": [],
   "source": [
    "import pandas as pd\n",
    "import matplotlib.pyplot as plt\n",
    "import numpy as np\n",
    "import seaborn as sns\n",
    "import datetime as dt"
   ]
  },
  {
   "cell_type": "markdown",
   "id": "a03115e6-5042-4f24-b518-5c751bb8ba60",
   "metadata": {},
   "source": [
    "## Read in the weather station data"
   ]
  },
  {
   "cell_type": "markdown",
   "id": "0ad582f1-efd7-4add-a1ab-294653bdb97d",
   "metadata": {},
   "source": [
    "### Create variables to make it easier to choose the country and region of interest"
   ]
  },
  {
   "cell_type": "code",
   "execution_count": 33,
   "id": "f450c211-2b55-439d-9909-bcf55c04b004",
   "metadata": {},
   "outputs": [
    {
     "name": "stdout",
     "output_type": "stream",
     "text": [
      "The countries within the file are: ['CA' 'NO' 'SE' 'FI' 'DE' 'GB' 'IE' 'IS' 'GL' 'US' 'DK' 'NL' 'BE' 'LU'\n",
      " 'CH' 'CN' 'LI' 'FR' 'PT' 'ES' 'GI' 'CV' 'AT' 'CZ' 'SK' 'PL' 'HU' 'RS'\n",
      " 'SI' 'HR' 'BA' 'CS' 'MK' 'AL' 'RO' 'BG' 'IT' 'MT' 'GR' 'TR' 'CY' 'RU'\n",
      " 'EE' 'LV' 'LT' 'BY' 'KZ' 'UA' 'MD' 'KG' 'GE' 'AZ' 'AM' 'UZ' 'TM' 'TJ'\n",
      " 'SY' 'LB' 'IL' 'JO' 'SA' 'KW' 'IQ' 'IR' 'AF' 'BH' 'QA' 'AE' 'OM' 'YE'\n",
      " 'PK' 'BD' 'IN' 'LK' 'MV' 'MN' 'NP' 'HK' 'MO' 'TW' 'KP' 'KR' 'JP' 'MM'\n",
      " 'TH' 'MY' 'SG' 'VN' 'LA' 'KH' 'MA' 'EH' 'DZ' 'TN' 'NE' 'ML' 'MR' 'SN'\n",
      " 'GM' 'GW' 'GN' 'SL' 'SH' 'ST' 'IO' 'RE' 'MU' 'TF' 'LY' 'EG' 'SD' 'ER'\n",
      " 'ET' 'DJ' 'SO' 'UG' 'KE' 'TZ' 'SC' 'CD' 'RW' 'BI' 'CG' 'GA' 'CF' 'TD'\n",
      " 'GQ' 'CM' 'NG' 'BJ' 'TG' 'GH' 'BF' 'CI' 'LR' 'AO' 'KM' 'MG' 'MZ' 'ZM'\n",
      " 'MW' 'ZW' 'NA' 'BW' 'ZA' 'SZ' 'LS' 'BV' 'CO' 'PM' 'MX' 'BM' 'BS' 'TC'\n",
      " 'CU' 'KY' 'JM' 'HT' 'DO' 'HN' 'PR' 'VI' 'VG' 'BZ' 'GT' 'SV' 'NI' 'CR'\n",
      " 'PA' 'KN' 'AG' 'AN' 'GP' 'DM' 'MQ' 'LC' 'VC' 'BB' 'GD' 'TT' 'AW' 'VE'\n",
      " 'GY' 'SR' 'GF' 'BR' 'EC' 'PE' 'BO' 'CL' 'PY' 'UY' 'AR' 'FK' 'AQ' 'FM'\n",
      " 'UM' 'MH' 'KI' 'PW' 'NZ' 'SB' 'NR' 'VU' 'NC' 'TV' 'FJ' 'TK' 'WS' 'TO'\n",
      " 'CK' 'PF' 'PN' 'PG' 'AU' 'NF' 'ID' 'BN' 'TL' 'PH' 'XA' 'XK' 'MS' 'BT']\n"
     ]
    }
   ],
   "source": [
    "country = df['country'].unique()\n",
    "print(f\"The countries within the file are: {country}\")\n"
   ]
  },
  {
   "cell_type": "code",
   "execution_count": 31,
   "id": "e654eef0-02ba-4b2d-969f-6e0fb5c57012",
   "metadata": {},
   "outputs": [],
   "source": [
    "df = pd.read_json(\"https://bulk.meteostat.net/v2/stations/lite.json.gz\")"
   ]
  },
  {
   "cell_type": "code",
   "execution_count": 32,
   "id": "d85d12dc-f3ab-47c9-a2a8-316fab38c6cb",
   "metadata": {},
   "outputs": [
    {
     "name": "stdout",
     "output_type": "stream",
     "text": [
      "      id                   name country region  \\\n",
      "0  00FAY  {'en': 'Holden Agdm'}      CA     AB   \n",
      "1  00TG6  {'en': 'Athabasca 1'}      CA     AB   \n",
      "2  01001    {'en': 'Jan Mayen'}      NO   None   \n",
      "3  01002     {'en': 'Grahuken'}      NO     SJ   \n",
      "4  01003     {'en': 'Hornsund'}      NO   None   \n",
      "\n",
      "                                         identifiers  \\\n",
      "0  {'national': '32395', 'wmo': '71227', 'icao': ...   \n",
      "1    {'national': '2459', 'wmo': None, 'icao': None}   \n",
      "2  {'national': None, 'wmo': '01001', 'icao': 'EN...   \n",
      "3   {'national': None, 'wmo': '01002', 'icao': None}   \n",
      "4   {'national': None, 'wmo': '01003', 'icao': None}   \n",
      "\n",
      "                                            location          timezone  \\\n",
      "0  {'latitude': 53.19, 'longitude': -112.25, 'ele...  America/Edmonton   \n",
      "1  {'latitude': 54.72, 'longitude': -113.29, 'ele...  America/Edmonton   \n",
      "2  {'latitude': 70.9333, 'longitude': -8.6667, 'e...       Europe/Oslo   \n",
      "3  {'latitude': 79.7833, 'longitude': 14.4667, 'e...       Europe/Oslo   \n",
      "4  {'latitude': 77.0, 'longitude': 15.5, 'elevati...       Europe/Oslo   \n",
      "\n",
      "                                           inventory  \n",
      "0  {'model': {'start': '2021-07-13', 'end': '2024...  \n",
      "1  {'model': {'start': '2021-07-13', 'end': '2024...  \n",
      "2  {'model': {'start': '2018-01-28', 'end': '2024...  \n",
      "3  {'model': {'start': '2021-07-05', 'end': '2024...  \n",
      "4  {'model': {'start': '2021-01-01', 'end': '2024...  \n"
     ]
    }
   ],
   "source": [
    "print(df.head(5))"
   ]
  },
  {
   "cell_type": "markdown",
   "id": "c9d3646b-6f11-44ae-ad9c-edb6855cb5aa",
   "metadata": {},
   "source": [
    "## Prompt user to request the location of interest\n"
   ]
  },
  {
   "cell_type": "code",
   "execution_count": 34,
   "id": "5e6adf04-a565-42e2-98d7-195f885f6ace",
   "metadata": {},
   "outputs": [],
   "source": [
    "# chosencountry = input(\"Enter the country of interest: \")\n",
    "chosencountry = \"CA\""
   ]
  },
  {
   "cell_type": "code",
   "execution_count": 35,
   "id": "1489e8d8-5b44-49e1-ab63-dc54bfe6a385",
   "metadata": {},
   "outputs": [],
   "source": [
    "countrydf = df[df['country'] == chosencountry]"
   ]
  },
  {
   "cell_type": "code",
   "execution_count": 37,
   "id": "0a861d8c-ad60-498b-8c8e-dd26b70f46c4",
   "metadata": {},
   "outputs": [
    {
     "name": "stdout",
     "output_type": "stream",
     "text": [
      "['AB' 'MB' 'SK' 'BC' 'NU' 'YT' 'QC' 'ON' 'NS' 'NL' 'NT' 'PE' 'NB' 'SD'\n",
      " 'NF']\n"
     ]
    }
   ],
   "source": [
    "print(countrydf['region'].unique())\n",
    "#chosenregion = input(\"Enter the region of interest: \") \n",
    "chosenregion = \"ON\""
   ]
  },
  {
   "cell_type": "markdown",
   "id": "f791f187-9843-4044-a28e-e18ca25e3094",
   "metadata": {},
   "source": [
    "## Create a new dataframe of the weather stations in the country and region of interest"
   ]
  },
  {
   "cell_type": "code",
   "execution_count": 38,
   "id": "5d6b7885-247d-4b44-a3b5-b4c62a952796",
   "metadata": {},
   "outputs": [
    {
     "name": "stdout",
     "output_type": "stream",
     "text": [
      "<bound method NDFrame.head of           id                           name country region  \\\n",
      "1211   0CNUO          {'en': 'Rawson Lake'}      CA     ON   \n",
      "1212   0CO7B       {'en': 'Kingsville Moe'}      CA     ON   \n",
      "1216   0FV1F     {'en': 'Tillsonburg Wwtp'}      CA     ON   \n",
      "1217   0FV2W         {'en': 'Mountainview'}      CA     ON   \n",
      "1549   10RIK       {'en': 'Brockville Pcc'}      CA     ON   \n",
      "...      ...                            ...     ...    ...   \n",
      "15791  Y7KHS     {'en': 'Red Lake Airport'}      CA     ON   \n",
      "15869  ZFS01   {'en': 'Lyndhurst Shawmere'}      CA     ON   \n",
      "15898  ZSOGU  {'en': 'Pickle Lake Airport'}      CA     ON   \n",
      "15912  ZWC6W  {'en': 'Kapuskasing Airport'}      CA     ON   \n",
      "15917  ZYC17     {'en': 'Kingston Airport'}      CA     ON   \n",
      "\n",
      "                                            identifiers  \\\n",
      "1211    {'national': '3966', 'wmo': None, 'icao': None}   \n",
      "1212    {'national': '4647', 'wmo': None, 'icao': None}   \n",
      "1216    {'national': '4699', 'wmo': None, 'icao': None}   \n",
      "1217    {'national': '4838', 'wmo': None, 'icao': None}   \n",
      "1549    {'national': '4236', 'wmo': None, 'icao': None}   \n",
      "...                                                 ...   \n",
      "15791  {'national': '52419', 'wmo': None, 'icao': None}   \n",
      "15869   {'national': '4308', 'wmo': None, 'icao': None}   \n",
      "15898  {'national': '52418', 'wmo': None, 'icao': None}   \n",
      "15912  {'national': '54260', 'wmo': None, 'icao': None}   \n",
      "15917  {'national': '52985', 'wmo': None, 'icao': None}   \n",
      "\n",
      "                                                location             timezone  \\\n",
      "1211   {'latitude': 49.65, 'longitude': -93.72, 'elev...  America/Rainy_River   \n",
      "1212   {'latitude': 42.04, 'longitude': -82.67, 'elev...      America/Toronto   \n",
      "1216   {'latitude': 42.86, 'longitude': -80.72, 'elev...      America/Toronto   \n",
      "1217   {'latitude': 44.05, 'longitude': -77.3, 'eleva...      America/Toronto   \n",
      "1549   {'latitude': 44.6, 'longitude': -75.67, 'eleva...      America/Toronto   \n",
      "...                                                  ...                  ...   \n",
      "15791  {'latitude': 51.07, 'longitude': -93.79, 'elev...     America/Winnipeg   \n",
      "15869  {'latitude': 44.52, 'longitude': -76.08, 'elev...      America/Toronto   \n",
      "15898  {'latitude': 51.45, 'longitude': -90.21, 'elev...     America/Atikokan   \n",
      "15912  {'latitude': 49.41, 'longitude': -82.47, 'elev...      America/Toronto   \n",
      "15917  {'latitude': 44.23, 'longitude': -76.6, 'eleva...      America/Toronto   \n",
      "\n",
      "                                               inventory  \n",
      "1211   {'model': {'start': '2021-07-14', 'end': '2024...  \n",
      "1212   {'model': {'start': '2021-07-14', 'end': '2024...  \n",
      "1216   {'model': {'start': '2021-07-14', 'end': '2024...  \n",
      "1217   {'model': {'start': '2021-07-15', 'end': '2021...  \n",
      "1549   {'model': {'start': '2021-07-14', 'end': '2024...  \n",
      "...                                                  ...  \n",
      "15791  {'model': {'start': '2021-07-14', 'end': '2024...  \n",
      "15869  {'model': {'start': '2021-07-14', 'end': '2024...  \n",
      "15898  {'model': {'start': '2021-07-14', 'end': '2024...  \n",
      "15912  {'model': {'start': '2021-07-14', 'end': '2024...  \n",
      "15917  {'model': {'start': '2021-07-14', 'end': '2024...  \n",
      "\n",
      "[267 rows x 8 columns]>\n"
     ]
    }
   ],
   "source": [
    "areaofinterest = df[df[\"region\"] == chosenregion]\n",
    "print(areaofinterest.head)"
   ]
  },
  {
   "cell_type": "code",
   "execution_count": 53,
   "id": "c7571855-cc0e-4473-9dce-1fab7e1b77b5",
   "metadata": {},
   "outputs": [],
   "source": [
    "listofstations = areaofinterest['id'].unique()"
   ]
  },
  {
   "cell_type": "markdown",
   "id": "1bf8a40b-533c-4b2e-838c-314de1e4a3bc",
   "metadata": {},
   "source": [
    "## Pass in each weather station ID\n"
   ]
  },
  {
   "cell_type": "markdown",
   "id": "592b6d76-4447-4403-897a-72d6b55621f0",
   "metadata": {},
   "source": [
    "### Create the column names\n"
   ]
  },
  {
   "cell_type": "code",
   "execution_count": 60,
   "id": "f3a4a250-008e-4d30-8aee-0d0b6fd65886",
   "metadata": {},
   "outputs": [],
   "source": [
    "date = \"Date\"\n",
    "tavg = \"Average air temperature in Celsius\"\n",
    "#tmin = \"Minimum air temperature in Celsius\"\n",
    "#tmax = \"Maximum air temperature in Celsius\"\n",
    "#sun = \"Daily sunshine in minutes\""
   ]
  },
  {
   "cell_type": "markdown",
   "id": "93c52c3a-a81f-4f5d-8424-445a496eccc0",
   "metadata": {},
   "source": [
    "## Weather station data for weather station 1211\n",
    "https://dev.meteostat.net/bulk/daily.html#endpoints"
   ]
  },
  {
   "cell_type": "code",
   "execution_count": 64,
   "id": "54620f36-88aa-40cb-82ab-8acacd4959a5",
   "metadata": {},
   "outputs": [
    {
     "name": "stdout",
     "output_type": "stream",
     "text": [
      "<class 'pandas.core.frame.DataFrame'>\n",
      "RangeIndex: 8014 entries, 0 to 8013\n",
      "Data columns (total 2 columns):\n",
      " #   Column                              Non-Null Count  Dtype         \n",
      "---  ------                              --------------  -----         \n",
      " 0   Date                                8014 non-null   datetime64[ns]\n",
      " 1   Average air temperature in Celsius  8010 non-null   float64       \n",
      "dtypes: datetime64[ns](1), float64(1)\n",
      "memory usage: 125.3 KB\n",
      "None\n"
     ]
    }
   ],
   "source": [
    "station1211 = pd.read_csv(\"https://bulk.meteostat.net/v2/daily/0CNUO.csv.gz\", usecols = [0,1], names =[date, tavg], parse_dates =['Date'])\n",
    "print(station1211.info())"
   ]
  },
  {
   "cell_type": "markdown",
   "id": "0453b4ea-c8f6-4fc5-9ecd-34c9b93e71ab",
   "metadata": {},
   "source": [
    "### Average the data by month"
   ]
  },
  {
   "cell_type": "code",
   "execution_count": 75,
   "id": "c558ad00-d5f3-46bb-ac02-690201845714",
   "metadata": {},
   "outputs": [
    {
     "name": "stdout",
     "output_type": "stream",
     "text": [
      "            Average air temperature in Celsius\n",
      "Date                                          \n",
      "2000-01-31                          -15.854839\n",
      "2000-02-29                           -8.255172\n",
      "2000-03-31                           -0.751613\n",
      "2000-04-30                            3.206667\n",
      "2000-05-31                           11.374194\n",
      "...                                        ...\n",
      "2024-08-31                           19.642308\n",
      "2024-09-30                           17.703704\n",
      "2024-10-31                            8.261290\n",
      "2024-11-30                            0.396667\n",
      "2024-12-31                           -8.287500\n",
      "\n",
      "[300 rows x 1 columns]\n"
     ]
    }
   ],
   "source": [
    "monthly_avg= station1211.groupby(pd.Grouper(key='Date', axis=0, freq='ME')).mean() \n",
    "print(monthly_avg)"
   ]
  },
  {
   "cell_type": "markdown",
   "id": "aee8a2f3-f2e1-4402-af6b-42ac1a1b1b96",
   "metadata": {},
   "source": [
    "### Plot the data"
   ]
  },
  {
   "cell_type": "markdown",
   "id": "279f1784-5daa-440d-8fcc-3bef5f7194ba",
   "metadata": {},
   "source": [
    "## Regression and Scikit Learn\n",
    "https://scikit-learn.org/stable/auto_examples/linear_model/plot_ols.html#sphx-glr-auto-examples-linear-model-plot-ols-py"
   ]
  },
  {
   "cell_type": "code",
   "execution_count": 79,
   "id": "21b009db-c438-4cb1-986f-fabca8031ddf",
   "metadata": {},
   "outputs": [
    {
     "data": {
      "image/png": "[encoded data removed]",
      "text/plain": [
       "<Figure size 640x480 with 1 Axes>"
      ]
     },
     "metadata": {},
     "output_type": "display_data"
    }
   ],
   "source": [
    "sns.lineplot(data = monthly_avg, x=date, y=\"Average air temperature in Celsius\")\n",
    "plt.title(f\"The average monthly air temperature for .............\")\n",
    "\n",
    "plt.show()"
   ]
  },
  {
   "cell_type": "markdown",
   "id": "e6c13336-0325-4cc4-9e46-cead968cff74",
   "metadata": {},
   "source": [
    "# Sci Kit Learn\n",
    "https://www.askpython.com/python/examples/weather-data-clustering"
   ]
  },
  {
   "cell_type": "code",
   "execution_count": 81,
   "id": "f18df94c-780c-4643-a470-959f8c41b8ea",
   "metadata": {},
   "outputs": [],
   "source": [
    "from sklearn.preprocessing import StandardScaler\n",
    "from sklearn.cluster import KMeans\n",
    "from itertools import cycle, islice\n",
    "from pandas.plotting import parallel_coordinates\n",
    "\n",
    "%matplotlib inline\n"
   ]
  },
  {
   "cell_type": "markdown",
   "id": "cd7181a2-bdd6-4b9d-a9a4-48353aba4769",
   "metadata": {},
   "source": [
    "## Load the dataset"
   ]
  },
  {
   "cell_type": "code",
   "execution_count": 100,
   "id": "c2e9dc76-7457-4ea1-99c2-ceed3e91bc5e",
   "metadata": {},
   "outputs": [
    {
     "name": "stdout",
     "output_type": "stream",
     "text": [
      "<class 'pandas.core.frame.DataFrame'>\n",
      "RangeIndex: 8014 entries, 0 to 8013\n",
      "Data columns (total 4 columns):\n",
      " #   Column                              Non-Null Count  Dtype         \n",
      "---  ------                              --------------  -----         \n",
      " 0   Date                                8014 non-null   datetime64[ns]\n",
      " 1   Average air temperature in Celsius  8010 non-null   float64       \n",
      " 2   Minimum air temperature in Celsius  8011 non-null   float64       \n",
      " 3   Maximum air temperature in Celsius  8013 non-null   float64       \n",
      "dtypes: datetime64[ns](1), float64(3)\n",
      "memory usage: 250.6 KB\n",
      "None\n"
     ]
    }
   ],
   "source": [
    "date = \"Date\"\n",
    "tavg = \"Average air temperature in Celsius\"\n",
    "tmin = \"Minimum air temperature in Celsius\"\n",
    "tmax = \"Maximum air temperature in Celsius\"\n",
    "\n",
    "station1211 = pd.read_csv(\"https://bulk.meteostat.net/v2/daily/0CNUO.csv.gz\", usecols = [0,1,2,3], names =[date, tavg, tmin, tmax],parse_dates=[0])\n",
    "#station1211[\"id\"] = df.index + 1\n",
    "print(station1211.info())"
   ]
  },
  {
   "cell_type": "markdown",
   "id": "30d213e6-c62a-4f89-a467-992cee446990",
   "metadata": {},
   "source": [
    "## Sample the data"
   ]
  },
  {
   "cell_type": "code",
   "execution_count": 101,
   "id": "fcb102c5-cf80-4b77-b35f-0ed476c46ba7",
   "metadata": {},
   "outputs": [
    {
     "ename": "TypeError",
     "evalue": "cannot perform __mod__ with this index type: DatetimeArray",
     "output_type": "error",
     "traceback": [
      "\u001b[1;31m---------------------------------------------------------------------------\u001b[0m",
      "\u001b[1;31mTypeError\u001b[0m                                 Traceback (most recent call last)",
      "Cell \u001b[1;32mIn[101], line 1\u001b[0m\n\u001b[1;32m----> 1\u001b[0m sampled_df \u001b[38;5;241m=\u001b[39m station1211[(station1211[\u001b[38;5;124m'\u001b[39m\u001b[38;5;124mDate\u001b[39m\u001b[38;5;124m'\u001b[39m] \u001b[38;5;241m%\u001b[39m \u001b[38;5;241m2\u001b[39m) \u001b[38;5;241m==\u001b[39m \u001b[38;5;241m0\u001b[39m]\n\u001b[0;32m      2\u001b[0m sampled_df\u001b[38;5;241m.\u001b[39mshape\n",
      "File \u001b[1;32m~\\anaconda3\\Lib\\site-packages\\pandas\\core\\ops\\common.py:76\u001b[0m, in \u001b[0;36m_unpack_zerodim_and_defer.<locals>.new_method\u001b[1;34m(self, other)\u001b[0m\n\u001b[0;32m     72\u001b[0m             \u001b[38;5;28;01mreturn\u001b[39;00m \u001b[38;5;28mNotImplemented\u001b[39m\n\u001b[0;32m     74\u001b[0m other \u001b[38;5;241m=\u001b[39m item_from_zerodim(other)\n\u001b[1;32m---> 76\u001b[0m \u001b[38;5;28;01mreturn\u001b[39;00m method(\u001b[38;5;28mself\u001b[39m, other)\n",
      "File \u001b[1;32m~\\anaconda3\\Lib\\site-packages\\pandas\\core\\arraylike.py:226\u001b[0m, in \u001b[0;36mOpsMixin.__mod__\u001b[1;34m(self, other)\u001b[0m\n\u001b[0;32m    224\u001b[0m \u001b[38;5;129m@unpack_zerodim_and_defer\u001b[39m(\u001b[38;5;124m\"\u001b[39m\u001b[38;5;124m__mod__\u001b[39m\u001b[38;5;124m\"\u001b[39m)\n\u001b[0;32m    225\u001b[0m \u001b[38;5;28;01mdef\u001b[39;00m \u001b[38;5;21m__mod__\u001b[39m(\u001b[38;5;28mself\u001b[39m, other):\n\u001b[1;32m--> 226\u001b[0m     \u001b[38;5;28;01mreturn\u001b[39;00m \u001b[38;5;28mself\u001b[39m\u001b[38;5;241m.\u001b[39m_arith_method(other, operator\u001b[38;5;241m.\u001b[39mmod)\n",
      "File \u001b[1;32m~\\anaconda3\\Lib\\site-packages\\pandas\\core\\series.py:6135\u001b[0m, in \u001b[0;36mSeries._arith_method\u001b[1;34m(self, other, op)\u001b[0m\n\u001b[0;32m   6133\u001b[0m \u001b[38;5;28;01mdef\u001b[39;00m \u001b[38;5;21m_arith_method\u001b[39m(\u001b[38;5;28mself\u001b[39m, other, op):\n\u001b[0;32m   6134\u001b[0m     \u001b[38;5;28mself\u001b[39m, other \u001b[38;5;241m=\u001b[39m \u001b[38;5;28mself\u001b[39m\u001b[38;5;241m.\u001b[39m_align_for_op(other)\n\u001b[1;32m-> 6135\u001b[0m     \u001b[38;5;28;01mreturn\u001b[39;00m base\u001b[38;5;241m.\u001b[39mIndexOpsMixin\u001b[38;5;241m.\u001b[39m_arith_method(\u001b[38;5;28mself\u001b[39m, other, op)\n",
      "File \u001b[1;32m~\\anaconda3\\Lib\\site-packages\\pandas\\core\\base.py:1382\u001b[0m, in \u001b[0;36mIndexOpsMixin._arith_method\u001b[1;34m(self, other, op)\u001b[0m\n\u001b[0;32m   1379\u001b[0m     rvalues \u001b[38;5;241m=\u001b[39m np\u001b[38;5;241m.\u001b[39marange(rvalues\u001b[38;5;241m.\u001b[39mstart, rvalues\u001b[38;5;241m.\u001b[39mstop, rvalues\u001b[38;5;241m.\u001b[39mstep)\n\u001b[0;32m   1381\u001b[0m \u001b[38;5;28;01mwith\u001b[39;00m np\u001b[38;5;241m.\u001b[39merrstate(\u001b[38;5;28mall\u001b[39m\u001b[38;5;241m=\u001b[39m\u001b[38;5;124m\"\u001b[39m\u001b[38;5;124mignore\u001b[39m\u001b[38;5;124m\"\u001b[39m):\n\u001b[1;32m-> 1382\u001b[0m     result \u001b[38;5;241m=\u001b[39m ops\u001b[38;5;241m.\u001b[39marithmetic_op(lvalues, rvalues, op)\n\u001b[0;32m   1384\u001b[0m \u001b[38;5;28;01mreturn\u001b[39;00m \u001b[38;5;28mself\u001b[39m\u001b[38;5;241m.\u001b[39m_construct_result(result, name\u001b[38;5;241m=\u001b[39mres_name)\n",
      "File \u001b[1;32m~\\anaconda3\\Lib\\site-packages\\pandas\\core\\ops\\array_ops.py:273\u001b[0m, in \u001b[0;36marithmetic_op\u001b[1;34m(left, right, op)\u001b[0m\n\u001b[0;32m    260\u001b[0m \u001b[38;5;66;03m# NB: We assume that extract_array and ensure_wrapped_if_datetimelike\u001b[39;00m\n\u001b[0;32m    261\u001b[0m \u001b[38;5;66;03m#  have already been called on `left` and `right`,\u001b[39;00m\n\u001b[0;32m    262\u001b[0m \u001b[38;5;66;03m#  and `maybe_prepare_scalar_for_op` has already been called on `right`\u001b[39;00m\n\u001b[0;32m    263\u001b[0m \u001b[38;5;66;03m# We need to special-case datetime64/timedelta64 dtypes (e.g. because numpy\u001b[39;00m\n\u001b[0;32m    264\u001b[0m \u001b[38;5;66;03m# casts integer dtypes to timedelta64 when operating with timedelta64 - GH#22390)\u001b[39;00m\n\u001b[0;32m    266\u001b[0m \u001b[38;5;28;01mif\u001b[39;00m (\n\u001b[0;32m    267\u001b[0m     should_extension_dispatch(left, right)\n\u001b[0;32m    268\u001b[0m     \u001b[38;5;129;01mor\u001b[39;00m \u001b[38;5;28misinstance\u001b[39m(right, (Timedelta, BaseOffset, Timestamp))\n\u001b[1;32m   (...)\u001b[0m\n\u001b[0;32m    271\u001b[0m     \u001b[38;5;66;03m# Timedelta/Timestamp and other custom scalars are included in the check\u001b[39;00m\n\u001b[0;32m    272\u001b[0m     \u001b[38;5;66;03m# because numexpr will fail on it, see GH#31457\u001b[39;00m\n\u001b[1;32m--> 273\u001b[0m     res_values \u001b[38;5;241m=\u001b[39m op(left, right)\n\u001b[0;32m    274\u001b[0m \u001b[38;5;28;01melse\u001b[39;00m:\n\u001b[0;32m    275\u001b[0m     \u001b[38;5;66;03m# TODO we should handle EAs consistently and move this check before the if/else\u001b[39;00m\n\u001b[0;32m    276\u001b[0m     \u001b[38;5;66;03m# (https://github.com/pandas-dev/pandas/issues/41165)\u001b[39;00m\n\u001b[0;32m    277\u001b[0m     \u001b[38;5;66;03m# error: Argument 2 to \"_bool_arith_check\" has incompatible type\u001b[39;00m\n\u001b[0;32m    278\u001b[0m     \u001b[38;5;66;03m# \"Union[ExtensionArray, ndarray[Any, Any]]\"; expected \"ndarray[Any, Any]\"\u001b[39;00m\n\u001b[0;32m    279\u001b[0m     _bool_arith_check(op, left, right)  \u001b[38;5;66;03m# type: ignore[arg-type]\u001b[39;00m\n",
      "File \u001b[1;32m~\\anaconda3\\Lib\\site-packages\\pandas\\core\\ops\\common.py:76\u001b[0m, in \u001b[0;36m_unpack_zerodim_and_defer.<locals>.new_method\u001b[1;34m(self, other)\u001b[0m\n\u001b[0;32m     72\u001b[0m             \u001b[38;5;28;01mreturn\u001b[39;00m \u001b[38;5;28mNotImplemented\u001b[39m\n\u001b[0;32m     74\u001b[0m other \u001b[38;5;241m=\u001b[39m item_from_zerodim(other)\n\u001b[1;32m---> 76\u001b[0m \u001b[38;5;28;01mreturn\u001b[39;00m method(\u001b[38;5;28mself\u001b[39m, other)\n",
      "File \u001b[1;32m~\\anaconda3\\Lib\\site-packages\\pandas\\core\\ops\\invalid.py:59\u001b[0m, in \u001b[0;36mmake_invalid_op.<locals>.invalid_op\u001b[1;34m(self, other)\u001b[0m\n\u001b[0;32m     57\u001b[0m \u001b[38;5;28;01mdef\u001b[39;00m \u001b[38;5;21minvalid_op\u001b[39m(\u001b[38;5;28mself\u001b[39m, other\u001b[38;5;241m=\u001b[39m\u001b[38;5;28;01mNone\u001b[39;00m):\n\u001b[0;32m     58\u001b[0m     typ \u001b[38;5;241m=\u001b[39m \u001b[38;5;28mtype\u001b[39m(\u001b[38;5;28mself\u001b[39m)\u001b[38;5;241m.\u001b[39m\u001b[38;5;18m__name__\u001b[39m\n\u001b[1;32m---> 59\u001b[0m     \u001b[38;5;28;01mraise\u001b[39;00m \u001b[38;5;167;01mTypeError\u001b[39;00m(\u001b[38;5;124mf\u001b[39m\u001b[38;5;124m\"\u001b[39m\u001b[38;5;124mcannot perform \u001b[39m\u001b[38;5;132;01m{\u001b[39;00mname\u001b[38;5;132;01m}\u001b[39;00m\u001b[38;5;124m with this index type: \u001b[39m\u001b[38;5;132;01m{\u001b[39;00mtyp\u001b[38;5;132;01m}\u001b[39;00m\u001b[38;5;124m\"\u001b[39m)\n",
      "\u001b[1;31mTypeError\u001b[0m: cannot perform __mod__ with this index type: DatetimeArray"
     ]
    }
   ],
   "source": [
    "sampled_df = station1211[(station1211['Date'] % 2) == 0]\n",
    "sampled_df.shape\n",
    "\n",
    "#sampled_df.set_index('Date', inplace=True)\n",
    "\n",
    "# del sampled_df['Average air temperature in Celsius']\n",
    "# del sampled_df['Maximum air temperature in Celsius']\n",
    " \n"
   ]
  },
  {
   "cell_type": "code",
   "execution_count": null,
   "id": "b2bf863f-aef4-4244-a812-5dd695609f49",
   "metadata": {},
   "outputs": [],
   "source": [
    "B = sampled_df.shape[0]\n",
    "sampled_df = sampled_df.dropna()\n",
    "A = sampled_df.shape[0]\n",
    " \n",
    "print(\"No of rows deleted: \", B-A)"
   ]
  },
  {
   "cell_type": "code",
   "execution_count": 109,
   "id": "0019962e-765b-44c7-8dd3-329a9fd6dffe",
   "metadata": {},
   "outputs": [
    {
     "name": "stdout",
     "output_type": "stream",
     "text": [
      "<class 'pandas.core.frame.DataFrame'>\n",
      "RangeIndex: 8014 entries, 0 to 8013\n",
      "Data columns (total 4 columns):\n",
      " #   Column                              Non-Null Count  Dtype  \n",
      "---  ------                              --------------  -----  \n",
      " 0   Date                                8014 non-null   object \n",
      " 1   Average air temperature in Celsius  8010 non-null   float64\n",
      " 2   Minimum air temperature in Celsius  8011 non-null   float64\n",
      " 3   Maximum air temperature in Celsius  8013 non-null   float64\n",
      "dtypes: float64(3), object(1)\n",
      "memory usage: 250.6+ KB\n"
     ]
    },
    {
     "ename": "KeyError",
     "evalue": "\"['tavg', 'tmin', 'tmax'] not in index\"",
     "output_type": "error",
     "traceback": [
      "\u001b[1;31m---------------------------------------------------------------------------\u001b[0m",
      "\u001b[1;31mKeyError\u001b[0m                                  Traceback (most recent call last)",
      "Cell \u001b[1;32mIn[109], line 27\u001b[0m\n\u001b[0;32m     25\u001b[0m \u001b[38;5;66;03m# Step 5: Prepare Data for Clustering\u001b[39;00m\n\u001b[0;32m     26\u001b[0m features \u001b[38;5;241m=\u001b[39m [\u001b[38;5;124m'\u001b[39m\u001b[38;5;124mtavg\u001b[39m\u001b[38;5;124m'\u001b[39m, \u001b[38;5;124m'\u001b[39m\u001b[38;5;124mtmin\u001b[39m\u001b[38;5;124m'\u001b[39m, \u001b[38;5;124m'\u001b[39m\u001b[38;5;124mtmax\u001b[39m\u001b[38;5;124m'\u001b[39m, \u001b[38;5;124m'\u001b[39m\u001b[38;5;124msin_day\u001b[39m\u001b[38;5;124m'\u001b[39m, \u001b[38;5;124m'\u001b[39m\u001b[38;5;124mcos_day\u001b[39m\u001b[38;5;124m'\u001b[39m]\n\u001b[1;32m---> 27\u001b[0m X \u001b[38;5;241m=\u001b[39m df[features]\n\u001b[0;32m     29\u001b[0m \u001b[38;5;66;03m# Step 6: Apply KMeans\u001b[39;00m\n\u001b[0;32m     30\u001b[0m kmeans \u001b[38;5;241m=\u001b[39m KMeans(n_clusters\u001b[38;5;241m=\u001b[39m\u001b[38;5;241m4\u001b[39m, random_state\u001b[38;5;241m=\u001b[39m\u001b[38;5;241m42\u001b[39m)\n",
      "File \u001b[1;32m~\\anaconda3\\Lib\\site-packages\\pandas\\core\\frame.py:4108\u001b[0m, in \u001b[0;36mDataFrame.__getitem__\u001b[1;34m(self, key)\u001b[0m\n\u001b[0;32m   4106\u001b[0m     \u001b[38;5;28;01mif\u001b[39;00m is_iterator(key):\n\u001b[0;32m   4107\u001b[0m         key \u001b[38;5;241m=\u001b[39m \u001b[38;5;28mlist\u001b[39m(key)\n\u001b[1;32m-> 4108\u001b[0m     indexer \u001b[38;5;241m=\u001b[39m \u001b[38;5;28mself\u001b[39m\u001b[38;5;241m.\u001b[39mcolumns\u001b[38;5;241m.\u001b[39m_get_indexer_strict(key, \u001b[38;5;124m\"\u001b[39m\u001b[38;5;124mcolumns\u001b[39m\u001b[38;5;124m\"\u001b[39m)[\u001b[38;5;241m1\u001b[39m]\n\u001b[0;32m   4110\u001b[0m \u001b[38;5;66;03m# take() does not accept boolean indexers\u001b[39;00m\n\u001b[0;32m   4111\u001b[0m \u001b[38;5;28;01mif\u001b[39;00m \u001b[38;5;28mgetattr\u001b[39m(indexer, \u001b[38;5;124m\"\u001b[39m\u001b[38;5;124mdtype\u001b[39m\u001b[38;5;124m\"\u001b[39m, \u001b[38;5;28;01mNone\u001b[39;00m) \u001b[38;5;241m==\u001b[39m \u001b[38;5;28mbool\u001b[39m:\n",
      "File \u001b[1;32m~\\anaconda3\\Lib\\site-packages\\pandas\\core\\indexes\\base.py:6200\u001b[0m, in \u001b[0;36mIndex._get_indexer_strict\u001b[1;34m(self, key, axis_name)\u001b[0m\n\u001b[0;32m   6197\u001b[0m \u001b[38;5;28;01melse\u001b[39;00m:\n\u001b[0;32m   6198\u001b[0m     keyarr, indexer, new_indexer \u001b[38;5;241m=\u001b[39m \u001b[38;5;28mself\u001b[39m\u001b[38;5;241m.\u001b[39m_reindex_non_unique(keyarr)\n\u001b[1;32m-> 6200\u001b[0m \u001b[38;5;28mself\u001b[39m\u001b[38;5;241m.\u001b[39m_raise_if_missing(keyarr, indexer, axis_name)\n\u001b[0;32m   6202\u001b[0m keyarr \u001b[38;5;241m=\u001b[39m \u001b[38;5;28mself\u001b[39m\u001b[38;5;241m.\u001b[39mtake(indexer)\n\u001b[0;32m   6203\u001b[0m \u001b[38;5;28;01mif\u001b[39;00m \u001b[38;5;28misinstance\u001b[39m(key, Index):\n\u001b[0;32m   6204\u001b[0m     \u001b[38;5;66;03m# GH 42790 - Preserve name from an Index\u001b[39;00m\n",
      "File \u001b[1;32m~\\anaconda3\\Lib\\site-packages\\pandas\\core\\indexes\\base.py:6252\u001b[0m, in \u001b[0;36mIndex._raise_if_missing\u001b[1;34m(self, key, indexer, axis_name)\u001b[0m\n\u001b[0;32m   6249\u001b[0m     \u001b[38;5;28;01mraise\u001b[39;00m \u001b[38;5;167;01mKeyError\u001b[39;00m(\u001b[38;5;124mf\u001b[39m\u001b[38;5;124m\"\u001b[39m\u001b[38;5;124mNone of [\u001b[39m\u001b[38;5;132;01m{\u001b[39;00mkey\u001b[38;5;132;01m}\u001b[39;00m\u001b[38;5;124m] are in the [\u001b[39m\u001b[38;5;132;01m{\u001b[39;00maxis_name\u001b[38;5;132;01m}\u001b[39;00m\u001b[38;5;124m]\u001b[39m\u001b[38;5;124m\"\u001b[39m)\n\u001b[0;32m   6251\u001b[0m not_found \u001b[38;5;241m=\u001b[39m \u001b[38;5;28mlist\u001b[39m(ensure_index(key)[missing_mask\u001b[38;5;241m.\u001b[39mnonzero()[\u001b[38;5;241m0\u001b[39m]]\u001b[38;5;241m.\u001b[39munique())\n\u001b[1;32m-> 6252\u001b[0m \u001b[38;5;28;01mraise\u001b[39;00m \u001b[38;5;167;01mKeyError\u001b[39;00m(\u001b[38;5;124mf\u001b[39m\u001b[38;5;124m\"\u001b[39m\u001b[38;5;132;01m{\u001b[39;00mnot_found\u001b[38;5;132;01m}\u001b[39;00m\u001b[38;5;124m not in index\u001b[39m\u001b[38;5;124m\"\u001b[39m)\n",
      "\u001b[1;31mKeyError\u001b[0m: \"['tavg', 'tmin', 'tmax'] not in index\""
     ]
    }
   ],
   "source": [
    "# Required Libraries\n",
    "import pandas as pd\n",
    "import numpy as np\n",
    "from sklearn.cluster import KMeans\n",
    "import matplotlib.pyplot as plt\n",
    "from datetime import datetime\n",
    "\n",
    "# Step 1: Load Data\n",
    "url = \"https://bulk.meteostat.net/v2/daily/0CNUO.csv.gz\"\n",
    "df = pd.read_csv(url, compression='gzip', usecols=[0,1,2,3], names =[date, tavg, tmin, tmax])\n",
    "df.info()\n",
    "\n",
    "# Step 2: Select First Four Columns\n",
    "#df = df[0,1,2,3]\n",
    "\n",
    "# Step 3: Handle Missing Values\n",
    "df.dropna(inplace=True)\n",
    "\n",
    "# Step 4: Add Cyclical Features for Date\n",
    "df['Date'] = pd.to_datetime(df['Date'])\n",
    "df['day_of_year'] = df['Date'].dt.dayofyear\n",
    "df['sin_day'] = np.sin(2 * np.pi * df['day_of_year'] / 365.0)\n",
    "df['cos_day'] = np.cos(2 * np.pi * df['day_of_year'] / 365.0)\n",
    "\n",
    "# Step 5: Prepare Data for Clustering\n",
    "features = ['tavg', 'tmin', 'tmax', 'sin_day', 'cos_day']\n",
    "X = df[features]\n",
    "\n",
    "# Step 6: Apply KMeans\n",
    "kmeans = KMeans(n_clusters=4, random_state=42)\n",
    "df['cluster'] = kmeans.fit_predict(X)\n",
    "\n",
    "# Step 7: Visualize Clusters\n",
    "plt.figure(figsize=(10, 6))\n",
    "for cluster in range(kmeans.n_clusters):\n",
    "    cluster_data = df[df['cluster'] == cluster]\n",
    "    plt.scatter(cluster_data['day_of_year'], cluster_data['tavg'], label=f'Cluster {cluster}')\n",
    "    \n",
    "plt.title('KMeans Clustering of Weather Data')\n",
    "plt.xlabel('Day of Year')\n",
    "plt.ylabel('Average Temperature (°C)')\n",
    "plt.legend()\n",
    "plt.show()\n"
   ]
  },
  {
   "cell_type": "code",
   "execution_count": null,
   "id": "e3545664-8281-42a7-a005-4a0f18c3faf0",
   "metadata": {},
   "outputs": [],
   "source": []
  }
 ],
 "metadata": {
  "kernelspec": {
   "display_name": "Python 3 (ipykernel)",
   "language": "python",
   "name": "python3"
  },
  "language_info": {
   "codemirror_mode": {
    "name": "ipython",
    "version": 3
   },
   "file_extension": ".py",
   "mimetype": "text/x-python",
   "name": "python",
   "nbconvert_exporter": "python",
   "pygments_lexer": "ipython3",
   "version": "3.12.4"
  }
 },
 "nbformat": 4,
 "nbformat_minor": 5
}
