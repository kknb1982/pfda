{
 "cells": [
  {
   "cell_type": "markdown",
   "id": "95a35361-eb52-4fb6-8dfd-537d9f39b4d5",
   "metadata": {},
   "source": [
    "# Assessing suitability of a location for thermal curtains and light shades to increase crop growth"
   ]
  },
  {
   "cell_type": "markdown",
   "id": "4c81b13b-3a07-4fce-9297-fe562736444a",
   "metadata": {},
   "source": [
    "## 1. Introduction\n",
    "Plants do not grow effectively and get can get damaged in high temperatures and too much sun.[(1)](https://extension.oregonstate.edu/gardening/techniques/environmental-factors-affecting-plant-growth#:~:text=Temperature%20influences%20most%20plant%20processes,photosynthesis%2C%20transpiration%20and%20respiration%20increase.) Conversely dull, cool days inhibit photosynthesis and plants do not grow efficiently. If temperatures drop too low plants may be damaged and leaves dropped impacting growth for many weeks.  \n",
    "\n",
    "Many greenhouse growers choose to whitewash the glass to reflect the heat and dissipate the light. However, adding (and removing) whitewash is time consuming, so the wash is only applied once per season, meaning if a cooler or cloudier spell of weather occurs the plants can't grow optimally. An increasingly popular alternative is fitting greenhouses with shading curtains which are easier to remove on cloudier days and can been drawn at night to retain heat. Through this project we investigate areas of Ontario, Canada to see the impact on the number of growing days on lettuce crops grown in greenhouse using the different thermal techniques.\n",
    "\n",
    "The meteostat platform has been used to access the weather data for the basis of this project [(2)](https://dev.meteostat.net/). Due to the amount of data it has been stored in a MySQL database and analysed using charts and predictions made using SciKitLearn.\n",
    "\n",
    "### 1.1 Table of contents\n",
    "[2. Import needed tools](#2-import-needed-tools)\n",
    "\n",
    "[3. Plant shading techniques](#3-plant-shading-techniques)\n",
    "\n",
    "[3.1 Read in the data](#31-read-in-the-data)\n",
    "\n",
    "[3.2 Plot the data](#32-plot-the-data)\n",
    "\n",
    "[4. Finding the impact of the different thermal techniques](#4-finding-the-impact-of-the-different-thermal-techniques)"
   ]
  },
  {
   "cell_type": "markdown",
   "id": "8e47271f-f5d4-460d-91d7-5a3ed9d34b9d",
   "metadata": {},
   "source": [
    "## 2. Import needed tools\n",
    "To access, store and analyse our data we need to import a number of tools:\n",
    "\n",
    "- **mysql.connector** - enables connections between python and MySQL [(3)](https://dev.mysql.com/doc/connector-python/en/)\n",
    "\n",
    "- **requests** - used to request a webpage, in this case the page holding the datafiles [(4)](https://realpython.com/python-requests/)\n",
    "\n",
    "- **gzip** - to handle and decompress gzip files[(5)](https://docs.python.org/3/library/gzip.html) as used at meteostat [(2)](https://dev.meteostat.net/).\n",
    "\n",
    "- **BytesIO** - handles data as a file object [(6)](https://www.geeksforgeeks.org/stringio-and-bytesio-for-managing-data-as-file-object/)\n",
    "\n",
    "- **json** - to work with data in the json format [(7)](https://realpython.com/python-json/)\n",
    "\n",
    "- **pandas** - to create and handle dataframes [(8)](https://pandas.pydata.org/)\n",
    "\n",
    "- **datetime** - to manipulate date and time data [(9)](https://docs.python.org/3/library/datetime.html)\n",
    "\n",
    "- **numpy** - to work with numbers [(10)](https://numpy.org/)\n",
    "\n",
    "- **matplotlib.pyplot** - plotting tool [(11)](https://matplotlib.org/3.5.3/api/_as_gen/matplotlib.pyplot.html)\n",
    "\n",
    "- **seaborn** - plotting statistical data [(12)](https://seaborn.pydata.org/)\n",
    "\n",
    "- **sklearn.metrics import r2_score** - calculates how well the model fits the data [(13)](https://scikit-learn.org/1.5/modules/generated/sklearn.metrics.r2_score.html)\n",
    "\n",
    "- **sklearn.ensemble import RandomForestRegressor** - machine learning technique to predict numerical values[(14)](https://scikit-learn.org/stable/modules/generated/sklearn.ensemble.RandomForestRegressor.html#sklearn.ensemble.RandomForestRegressor)[(15)](https://www.geeksforgeeks.org/random-forest-regression-in-python/)\n",
    "\n",
    "- **sklearn.model_selection import train_test_split** - split a dataset to train the machine learning model [(16)](https://scikit-learn.org/stable/modules/generated/sklearn.model_selection.train_test_split.html)[(17)](https://realpython.com/train-test-split-python-data/)\n",
    "\n",
    "- **sklearn.metrics import mean_squared_error** - calculate the average squared difference between the predictions and actual data [(18)](https://scikit-learn.org/stable/modules/generated/sklearn.metrics.mean_squared_error.html)[(19)](https://www.geeksforgeeks.org/python-mean-squared-error/)\n",
    "\n",
    "- **datetime import timedelta** - duration or difference between two date [(20)](https://docs.python.org/3/library/datetime.html)\n",
    "  \n",
    "- **scipy import stats** - access statistical functions [(21)](https://docs.scipy.org/doc/scipy-1.15.0/reference/stats.html)\n",
    "\n",
    "- **decimal import Decimal** - to work with decimals [(22)](https://docs.python.org/3/library/decimal.html)"
   ]
  },
  {
   "cell_type": "code",
   "execution_count": 1,
   "id": "a38678af-59c2-45f7-b8be-9e490c370c59",
   "metadata": {},
   "outputs": [],
   "source": [
    "# Create the mySQL database\n",
    "import mysql.connector as msql\n",
    "\n",
    "# Import the data and unzip it\n",
    "import requests\n",
    "import gzip\n",
    "from io import BytesIO\n",
    "import json\n",
    "\n",
    "# Create the dataframe and manipulate it\n",
    "import pandas as pd\n",
    "import datetime as dt\n",
    "import numpy as np\n",
    "\n",
    "# Plot the data\n",
    "import matplotlib.pyplot as plt\n",
    "import seaborn as sns\n",
    "\n",
    "# Regression analysis\n",
    "from sklearn.metrics import r2_score\n",
    "from scipy import stats\n",
    "\n",
    "# Work with decimals\n",
    "from decimal import Decimal\n",
    "\n",
    "# Regression and machine learning\n",
    "from sklearn.ensemble import RandomForestRegressor\n",
    "from sklearn.model_selection import train_test_split\n",
    "from sklearn.metrics import mean_squared_error\n",
    "from datetime import timedelta"
   ]
  },
  {
   "cell_type": "markdown",
   "id": "ffe1738f",
   "metadata": {},
   "source": [
    "## 3. Plant shading techniques\n",
    "Each of the different plant shading techniques have different characteristics and efficiencies. White washing requires good knowledge on when to white wash and remove it, but is very cheap. Thermal curtains are easier to use, can be quickly and easily moved into place, but are more expensive to buy. Propriety data has been amended for this project to protect intellectual property but the techniques used to analyse the data are still valid.\n",
    "\n",
    "### 3.1 Read in the thermal techniques data\n",
    "The data about the performance of difference thermal techniques are saved in a csv file. This dataset lists the external temperature and internal temperature from other greenhouses in the same location using the different thermal techniques and one control greenhouse. This data is first read into a dataframe call `df_tech`."
   ]
  },
  {
   "cell_type": "code",
   "execution_count": 2,
   "id": "758599d9",
   "metadata": {},
   "outputs": [],
   "source": [
    "# Location of the data\n",
    "DATADIR = \"C:/Users/kirst/OneDrive - Atlantic TU/pfda/project/\"\n",
    "FILENAME = \"thermal_data.csv\"\n",
    "\n",
    "# Read the data into a dataframe\n",
    "df_tech = pd.read_csv (DATADIR + FILENAME)"
   ]
  },
  {
   "cell_type": "markdown",
   "id": "eb97a066",
   "metadata": {},
   "source": [
    "### 3.2 Plot the thermal techniques data\n",
    "Now the data is in a dataframe it can quickly be visualised by plotting using `matplotlib.pyplot` [(11)](https://matplotlib.org/3.5.3/api/_as_gen/matplotlib.pyplot.html). To create a line for each of the thermal techiques these variables are set to y1, y2 y3, etc [(23)](https://www.geeksforgeeks.org/plot-multiple-lines-in-matplotlib/), a particular column is extracted from the dataframe using the format `dataframe_name['column_name]`.\n",
    "\n",
    "The data is plotted using matplotlib's scatter plot [(24)](https://matplotlib.org/stable/api/_as_gen/matplotlib.pyplot.scatter.html) and the axes and chart labelled."
   ]
  },
  {
   "cell_type": "code",
   "execution_count": null,
   "id": "4383231e",
   "metadata": {},
   "outputs": [
    {
     "data": {
      "image/png": "[encoded data removed]",
      "text/plain": [
       "<Figure size 640x480 with 1 Axes>"
      ]
     },
     "metadata": {},
     "output_type": "display_data"
    }
   ],
   "source": [
    "# Set the parameters for the plot\n",
    "x = df_tech['External']\n",
    "y1 = df_tech['Control']\n",
    "y2 = df_tech['Thermal']\n",
    "y3 = df_tech['Whitewash']\n",
    "y4 = df_tech['Shading']\n",
    "\n",
    "# Plot the data\n",
    "plt.scatter(x,y1, marker='x', color='red', label='Control')\n",
    "plt.scatter(x,y2, marker='x', color='blue', label='Thermal')\n",
    "plt.scatter(x,y3, marker='x', color='green', label='Whitewash')\n",
    "plt.scatter(x,y4, marker='x', color='yellow', label='Shading')\n",
    "\n",
    "# Label the chart\n",
    "plt.xlabel('External Temperature')\n",
    "plt.ylabel('Internal Temperature')\n",
    "plt.title('Internal Temperature vs External Temperature of a greenhouse \\n using various methods of temperature control')\n",
    "plt.legend()\n",
    "\n",
    "# Show the plot\n",
    "plt.show()\n"
   ]
  },
  {
   "cell_type": "markdown",
   "id": "d636d484",
   "metadata": {},
   "source": [
    "## 4. Finding the impact of the different thermal techniques\n",
    "\n",
    "### 4.1 Whitewash\n",
    "Whitewashing is the traditional approach to cooling a greenhouse. Once temperatures start to rise in the spring a layer of white wash is painted onto the roof of the greenhouse. This whitewash reduces the amount of solar gain and cools the day time temperatures of the the greenhouse. The chart above shows that the relationship between the external temperature and the temperature inside a white washed greenhouse is basically linear (green markers). Visualising the whitewashing data on its own makes this relationship clearer. To make this easier create a dataframe of the whitewash data and the external temperature and check if there are any missing values.\n",
    "\n",
    "Drop rows with missing data for whitewashing https://www.aporia.com/resources/how-to/drop-rows-pandas-dataframe-column-vamue-nan/\n"
   ]
  },
  {
   "cell_type": "code",
   "execution_count": 8,
   "id": "9f160dd1",
   "metadata": {},
   "outputs": [
    {
     "name": "stdout",
     "output_type": "stream",
     "text": [
      "<class 'pandas.core.frame.DataFrame'>\n",
      "RangeIndex: 63 entries, 0 to 62\n",
      "Data columns (total 2 columns):\n",
      " #   Column     Non-Null Count  Dtype  \n",
      "---  ------     --------------  -----  \n",
      " 0   Whitewash  31 non-null     float64\n",
      " 1   External   63 non-null     float64\n",
      "dtypes: float64(2)\n",
      "memory usage: 1.1 KB\n"
     ]
    }
   ],
   "source": [
    "whitewash_data = df_tech[['Whitewash', 'External']]\n",
    "whitewash_data.info()"
   ]
  },
  {
   "cell_type": "markdown",
   "id": "a4a07125",
   "metadata": {},
   "source": [
    "There are missing values so we'll use the `dropna` technique to remove them [(25)](https://pandas.pydata.org/docs/reference/api/pandas.DataFrame.dropna.html). Using `inplace=True` updates the existing dataframe."
   ]
  },
  {
   "cell_type": "markdown",
   "id": "4cdeac0d",
   "metadata": {},
   "source": []
  },
  {
   "cell_type": "code",
   "execution_count": 12,
   "id": "8f64cab1",
   "metadata": {},
   "outputs": [
    {
     "name": "stdout",
     "output_type": "stream",
     "text": [
      "<class 'pandas.core.frame.DataFrame'>\n",
      "Index: 31 entries, 12 to 42\n",
      "Data columns (total 2 columns):\n",
      " #   Column     Non-Null Count  Dtype  \n",
      "---  ------     --------------  -----  \n",
      " 0   Whitewash  31 non-null     float64\n",
      " 1   External   31 non-null     float64\n",
      "dtypes: float64(2)\n",
      "memory usage: 744.0 bytes\n"
     ]
    },
    {
     "name": "stderr",
     "output_type": "stream",
     "text": [
      "C:\\Users\\kirst\\AppData\\Local\\Temp\\ipykernel_11468\\2906526516.py:1: SettingWithCopyWarning: \n",
      "A value is trying to be set on a copy of a slice from a DataFrame\n",
      "\n",
      "See the caveats in the documentation: https://pandas.pydata.org/pandas-docs/stable/user_guide/indexing.html#returning-a-view-versus-a-copy\n",
      "  whitewash_data.dropna(subset=['Whitewash'], inplace=True)\n"
     ]
    }
   ],
   "source": [
    "whitewash_data.dropna(inplace=True)\n",
    "whitewash_data.info()"
   ]
  },
  {
   "cell_type": "markdown",
   "id": "2cb40b49",
   "metadata": {},
   "source": [
    "Now we have a clear dataset "
   ]
  },
  {
   "cell_type": "code",
   "execution_count": 13,
   "id": "a658d685",
   "metadata": {},
   "outputs": [
    {
     "data": {
      "image/png": "[encoded data removed]",
      "text/plain": [
       "<Figure size 640x480 with 1 Axes>"
      ]
     },
     "metadata": {},
     "output_type": "display_data"
    }
   ],
   "source": [
    "# Set the x and y values\n",
    "x = whitewash_data['External']\n",
    "y = whitewash_data['Whitewash']\n",
    "\n",
    "# Perform the regression analysis\n",
    "sns.residplot(x=x, y=y, color=\"r\")\n",
    "\n",
    "# Label the chart\n",
    "plt.xlabel('External Temperature')\n",
    "plt.ylabel('Internal Temperature of Greenhouse with Whitewash')\n",
    "plt.title('Residual Plot of Internal Temperature vs External Temperature of a greenhouse using Whitewash')\n",
    "plt.show()"
   ]
  },
  {
   "cell_type": "markdown",
   "id": "6866b695",
   "metadata": {},
   "source": [
    "#### 4.1.1 Linear regression\n",
    "\n",
    "https://www.w3schools.com/python/python_ml_linear_regression.asp\n"
   ]
  },
  {
   "cell_type": "code",
   "execution_count": 14,
   "id": "c55cfa8b",
   "metadata": {},
   "outputs": [
    {
     "data": {
      "image/png": "[encoded data removed]",
      "text/plain": [
       "<Figure size 640x480 with 1 Axes>"
      ]
     },
     "metadata": {},
     "output_type": "display_data"
    },
    {
     "name": "stdout",
     "output_type": "stream",
     "text": [
      "The R value is:  0.9936902606867494\n",
      "The P value is:  4.1187985466050914e-29\n",
      "The standard error is:  0.02500908008086396\n",
      "The slope is:  1.1931998699801705\n",
      "The intercept is:  0.37669111131708277\n"
     ]
    }
   ],
   "source": [
    "slope, intercept, r_value, p_value, std_err = stats.linregress(x, y)\n",
    "def myfunc(x):\n",
    "  return slope * x + intercept\n",
    "\n",
    "mymodel = list(map(myfunc, x))\n",
    "\n",
    "plt.scatter(x, y)\n",
    "plt.plot(x, mymodel)\n",
    "plt.xlabel('External Temperature')\n",
    "plt.ylabel('Internal Temperature of Greenhouse with Whitewash')\n",
    "\n",
    "plt.show()\n",
    "\n",
    "print(\"The R value is: \", r_value)\n",
    "print(\"The P value is: \", p_value)\n",
    "print(\"The standard error is: \", std_err)\n",
    "print(\"The slope is: \", slope)\n",
    "print(\"The intercept is: \", intercept)"
   ]
  },
  {
   "cell_type": "markdown",
   "id": "5c05d110",
   "metadata": {},
   "source": []
  },
  {
   "cell_type": "markdown",
   "id": "4a3aae39",
   "metadata": {},
   "source": [
    "### 4.2 Impact of thermal curtains"
   ]
  },
  {
   "cell_type": "code",
   "execution_count": 15,
   "id": "e94d9488",
   "metadata": {},
   "outputs": [
    {
     "name": "stdout",
     "output_type": "stream",
     "text": [
      "         2\n",
      "0.02354 x + 1.16 x + 5.012\n"
     ]
    },
    {
     "data": {
      "image/png": "[encoded data removed]",
      "text/plain": [
       "<Figure size 640x480 with 1 Axes>"
      ]
     },
     "metadata": {},
     "output_type": "display_data"
    }
   ],
   "source": [
    "df_tech.dropna(subset=['Thermal'], inplace=True)\n",
    "x = df_tech['External']\n",
    "y = df_tech['Thermal']\n",
    "\n",
    "p=np.polyfit(x,y,2)\n",
    "f = np.poly1d(p)\n",
    "print(f)\n",
    "\n",
    "# Plot the regression line\n",
    "x_new = np.linspace(x.min(), x.max(), 100)\n",
    "y_model = f(x_new)\n",
    "\n",
    "plt.scatter(x, y)\n",
    "plt.plot(x_new, y_model)\n",
    "\n",
    "#plt.plot(myline, mymodel(myline))\n",
    "plt.xlabel('External Temperature')\n",
    "plt.ylabel('Internal Temperature of a greenhouse fitted with thermal curtains')\n",
    "plt.show()\n"
   ]
  },
  {
   "cell_type": "markdown",
   "id": "1edee633",
   "metadata": {},
   "source": [
    "## 5. The test plants\n",
    "\"Head lettuce is the most important salad vegetable gown in the United States\" [(2)](https://content.ces.ncsu.edu/lettuce). The optimum growing temperature for head lettuce is 15-18°C. At 20-26°C the plants start to flower and produce seed and need replacing and temperatures below 0°C will kill the plants.\n"
   ]
  },
  {
   "cell_type": "code",
   "execution_count": 62,
   "id": "b5caac4f",
   "metadata": {},
   "outputs": [],
   "source": [
    "lettuce_min = 0\n",
    "lettuce_max = 20\n",
    "lettuce_range1 = 15\n",
    "lettuce_range2 = 20"
   ]
  },
  {
   "cell_type": "markdown",
   "id": "8a89a628",
   "metadata": {},
   "source": [
    "Tomatoes are grown across the world and are an important staple in many cuisines. To increase their range and season many are grown in greenhouses. The optimal conditions for growth are 21-27°C with temperatures not dropping below 16°C or exceeding 29°C [(3)](https://drygair.com/blog/what-are-the-ideal-conditions-for-greenhouse-tomatoes/)."
   ]
  },
  {
   "cell_type": "code",
   "execution_count": 13,
   "id": "91f4f6e7",
   "metadata": {},
   "outputs": [],
   "source": [
    "tomato_min = 16\n",
    "tomato_max = 29\n",
    "tomato_range1 = 21\n",
    "tomato_range2 = 27"
   ]
  },
  {
   "cell_type": "markdown",
   "id": "1f0e8be7",
   "metadata": {},
   "source": [
    "## 6. Create a database to store the weather data\n",
    "Due to the large amounts of data needed for this analysis. A MySQL database needs to be created. MySQL offers the ability to store very large amounts of data in a structured and easily accessible way, where the data is persistent. \n",
    "\n",
    "To create the database we first set the connection parameters for the database and create the cursor to enable the connection for making SQL queries.\n"
   ]
  },
  {
   "cell_type": "code",
   "execution_count": null,
   "id": "5091ec24",
   "metadata": {},
   "outputs": [],
   "source": [
    "# Set the parameters for the connection\n",
    "db = msql.connect(host='localhost', user='root',password='')\n",
    "\n",
    "# Create the cursor\n",
    "cursor = db.cursor()\n",
    "\n",
    "# Execute SQL query\n",
    "cursor.execute('CREATE DATABASE weather')\n",
    "print('The database \"weather\" has been created')\n",
    "\n",
    "# Close the connection\n",
    "cursor.close()\n",
    "db.close()"
   ]
  },
  {
   "cell_type": "markdown",
   "id": "4e8058df",
   "metadata": {},
   "source": [
    "### 6.1 Create a table for the weather station data\n",
    "Within the database a table needs to be created for each of the data sources. The first table will hold a list of the weather stations [(4)](https://dev.meteostat.net/bulk/stations.html#endpoints). The data about all the weather stations is available at: https://bulk.meteostat.net/v2/stations/lite.json.gz. It is compressed using `gzip` so the file needs to be decompressed before creating the dataframe and inserting the information into the database."
   ]
  },
  {
   "cell_type": "code",
   "execution_count": null,
   "id": "484e9aa6",
   "metadata": {},
   "outputs": [],
   "source": [
    "try:\n",
    "    # Connect to MySQL\n",
    "    con = msql.connect(host='localhost', database='weather', user='root', password='')\n",
    "\n",
    "    if con.is_connected():\n",
    "        cursor = con.cursor()\n",
    "        cursor.execute(\"SELECT DATABASE();\")\n",
    "        record = cursor.fetchone()\n",
    "        print(f\"You're connected to database: {record}\")\n",
    "        \n",
    "        # Drop the table if it exists\n",
    "        cursor.execute('DROP TABLE IF EXISTS stations_data')\n",
    "        print('Creating table....')\n",
    "        \n",
    "        # Create the table\n",
    "        sql = \"\"\"CREATE TABLE stations_data \n",
    "            (id VARCHAR(10) PRIMARY KEY, \n",
    "            name JSON, \n",
    "            country CHAR(2), \n",
    "            region VARCHAR(10), \n",
    "            national_id VARCHAR(10), \n",
    "            wmo_id VARCHAR(10), \n",
    "            icao_id VARCHAR(10), \n",
    "            iata_id VARCHAR(25), \n",
    "            latitude DECIMAL(9,6), \n",
    "            longitude DECIMAL(9,6), \n",
    "            elevation INT, \n",
    "            timezone VARCHAR(25),\n",
    "            history JSON, \n",
    "            hourly_start DATE, \n",
    "            hourly_end DATE, \n",
    "            daily_start DATE,\n",
    "            daily_end DATE,\n",
    "            monthly_start YEAR,\n",
    "            monthly_end YEAR,\n",
    "            normals_start YEAR,\n",
    "            normals_end YEAR\n",
    ")\"\"\"\n",
    "        cursor.execute(sql)\n",
    "        print(\"Table is created....\")\n",
    "\n",
    "except msql.Error as err:\n",
    "    print(err.msg)\n",
    "\n",
    "finally:\n",
    "    if con.is_connected():\n",
    "        cursor.close()\n",
    "        con.close()"
   ]
  },
  {
   "cell_type": "markdown",
   "id": "67cd5357",
   "metadata": {},
   "source": [
    "### 6.2 Read in the weather station data\n",
    "\n",
    "Then the weather stations table needs to be populated."
   ]
  },
  {
   "cell_type": "code",
   "execution_count": null,
   "id": "2d4b0db7",
   "metadata": {},
   "outputs": [],
   "source": [
    "# File name and location\n",
    "url = \"https://bulk.meteostat.net/v2/stations/full.json.gz\"\n",
    "file_name = \"full.json.gz\"\n",
    "\n",
    "# Download the file\n",
    "response = requests.get(url, stream=True)\n",
    "with open(file_name, 'wb') as f:\n",
    "    f.write(response.content)\n",
    "\n",
    "# Decompress the file\n",
    "with gzip.open(file_name, 'rt', encoding='utf-8') as gz_file:\n",
    "    stations_file = json.load(gz_file)\n",
    "\n",
    "# Connect to the MySQL Database\n",
    "try:\n",
    "    con = msql.connect(host='localhost', database='weather', user='root', password='')\n",
    "    if con.is_connected():\n",
    "        cursor = con.cursor()\n",
    "        print(\"Connected to the database.\")\n",
    "\n",
    "        # Prepare SQL statement for data insertion\n",
    "        sql_insert = \"\"\"\n",
    "            INSERT INTO stations_data (\n",
    "                id, name, country, region, national_id, wmo_id, icao_id, iata_id,\n",
    "                latitude, longitude, elevation, timezone, history,\n",
    "                hourly_start, hourly_end, daily_start, daily_end,\n",
    "                monthly_start, monthly_end, normals_start, normals_end\n",
    "            ) VALUES (\n",
    "                %(id)s, %(name)s, %(country)s, %(region)s, %(national_id)s, %(wmo_id)s, %(icao_id)s, %(iata_id)s,\n",
    "                %(latitude)s, %(longitude)s, %(elevation)s, %(timezone)s, %(history)s,\n",
    "                %(hourly_start)s, %(hourly_end)s, %(daily_start)s, %(daily_end)s,\n",
    "                %(monthly_start)s, %(monthly_end)s, %(normals_start)s, %(normals_end)s\n",
    "            )\n",
    "        \"\"\"\n",
    "\n",
    "        # Insert Data into MySQL Table\n",
    "        for station in stations_file:\n",
    "            data = {\n",
    "                'id': station.get('id'),\n",
    "                'name': json.dumps(station.get('name', {})),  # Convert dictionary to JSON string\n",
    "                'country': station.get('country'),\n",
    "                'region': station.get('region'),\n",
    "                'national_id': station.get('national'),\n",
    "                'wmo_id': station.get('wmo'),\n",
    "                'icao_id': station.get('icao'),\n",
    "                'iata_id': station.get('iata'),\n",
    "                'latitude': station.get('latitude'),\n",
    "                'longitude': station.get('longitude'),\n",
    "                'elevation': station.get('elevation'),\n",
    "                'timezone': station.get('timezone'),\n",
    "                'history': json.dumps(station.get('history', [])),  # Convert list to JSON string\n",
    "                'hourly_start': station.get('inventory', {}).get('hourly', {}).get('start'),\n",
    "                'hourly_end': station.get('inventory', {}).get('hourly', {}).get('end'),\n",
    "                'daily_start': station.get('inventory', {}).get('daily', {}).get('start'),\n",
    "                'daily_end': station.get('inventory', {}).get('daily', {}).get('end'),\n",
    "                'monthly_start': station.get('inventory', {}).get('monthly', {}).get('start'),\n",
    "                'monthly_end': station.get('inventory', {}).get('monthly', {}).get('end'),\n",
    "                'normals_start': station.get('inventory', {}).get('normals', {}).get('start'),\n",
    "                'normals_end': station.get('inventory', {}).get('normals', {}).get('end'),\n",
    "            }\n",
    "            cursor.execute(sql_insert, data)\n",
    "\n",
    "        # Commit the transaction\n",
    "        con.commit()\n",
    "        print(\"Data inserted successfully.\")\n",
    "\n",
    "# Print details if an error occurs\n",
    "except msql.Error as err:\n",
    "    print(f\"Error: {err}\")\n",
    "\n",
    "# Close the connection\n",
    "finally:\n",
    "    if con.is_connected():\n",
    "        cursor.close()\n",
    "        con.close()\n",
    "        print(\"MySQL connection is closed.\")"
   ]
  },
  {
   "cell_type": "markdown",
   "id": "cf18e12f",
   "metadata": {},
   "source": [
    "### 6.3 Select the country of interest\n"
   ]
  },
  {
   "cell_type": "code",
   "execution_count": null,
   "id": "95da4b70",
   "metadata": {},
   "outputs": [],
   "source": [
    "con = msql.connect(host='localhost', database='weather', user='root', password='')\n",
    "\n",
    "cursor = con.cursor()\n",
    "\n",
    "sql = \"SELECT DISTINCT country FROM stations_data\"\n",
    "\n",
    "cursor.execute(sql)\n",
    "results = cursor.fetchall()\n",
    "print(\"The country codes are explained at: https://www.iban.com/country-codes\")\n",
    "print(f\"The countries available are:\")\n",
    "for row in results:\n",
    "    print(row)\n",
    "\n",
    "cursor.close()\n",
    "con.close()"
   ]
  },
  {
   "cell_type": "markdown",
   "id": "c9d3646b-6f11-44ae-ad9c-edb6855cb5aa",
   "metadata": {},
   "source": [
    "The user should be prompted to select the country of interest. \n"
   ]
  },
  {
   "cell_type": "code",
   "execution_count": null,
   "id": "1489e8d8-5b44-49e1-ab63-dc54bfe6a385",
   "metadata": {},
   "outputs": [],
   "source": [
    "try:\n",
    "    # Connect to the database\n",
    "    con = msql.connect(host='localhost', database='weather', user='root', password='')\n",
    "    if con.is_connected():\n",
    "        cursor = con.cursor()\n",
    "        \n",
    "        # Get user to input the country code\n",
    "        chosencountry = input(str(\"Enter the country of interest, using the two digit code: \")).strip().upper()\n",
    "        \n",
    "        # Check the user input is valid\n",
    "        if len(chosencountry) != 2:\n",
    "            print(\"Invalid country code. Please enter a valid 2- character country code.\")\n",
    "        else: # Exectute the SQL query\n",
    "            query = sql = \"SELECT DISTINCT region FROM stations_data WHERE country = %s\"\n",
    "            cursor.execute(query, (chosencountry,)) \n",
    "            \n",
    "            # Fetch and display the results\n",
    "            results = cursor.fetchall()\n",
    "            if results:\n",
    "                print(f\"The regions within {chosencountry} available are:\")\n",
    "                for row in results:\n",
    "                    print(row)\n",
    "            else:\n",
    "                print(f\"No regions found for country code: {chosencountry}\")\n",
    "                \n",
    "except msql.Error as err:\n",
    "    print(err)\n",
    "\n",
    "finally:\n",
    "    if con.is_connected():\n",
    "        cursor.close()\n",
    "        con.close()\n"
   ]
  },
  {
   "cell_type": "markdown",
   "id": "f791f187-9843-4044-a28e-e18ca25e3094",
   "metadata": {},
   "source": [
    "### 6.4 Select the weather stations in the country and region of interest"
   ]
  },
  {
   "cell_type": "code",
   "execution_count": null,
   "id": "5d6b7885-247d-4b44-a3b5-b4c62a952796",
   "metadata": {},
   "outputs": [],
   "source": [
    "try:\n",
    "    # Connect to the database\n",
    "    con = msql.connect(host='localhost', database='weather', user='root', password='')\n",
    "    if con.is_connected():\n",
    "        cursor = con.cursor()\n",
    "        \n",
    "        # Get user to input the region code\n",
    "        chosenregion = input(str(\"Enter the region of interest, using the two digit code: \")).strip().upper()\n",
    "        \n",
    "        # Check the user input is valid\n",
    "        if len(chosenregion) != 2:\n",
    "            print(\"Invalid region code. Please enter a valid 2- character region code.\")\n",
    "        else: # Execute the SQL query\n",
    "            query =\"SELECT id FROM stations_data WHERE country = %s AND region = %s AND daily_start IS NOT NULL\"\n",
    "            cursor.execute(query, (chosencountry, chosenregion,)) \n",
    "            \n",
    "            # Fetch and display the results\n",
    "            station_ids = [str(row[0]) for row in cursor.fetchall()]\n",
    "            if results:\n",
    "                print(f\"The stations within {chosenregion} are:\")\n",
    "                for row in station_ids:\n",
    "                    print(row)\n",
    "            else:\n",
    "                print(f\"No stations found for region code: {chosenregion} in country code: {chosencountry}\")\n",
    "                \n",
    "except msql.Error as err:\n",
    "    print(err)\n",
    "\n",
    "finally:\n",
    "    if con.is_connected():\n",
    "        cursor.close()\n",
    "        con.close()"
   ]
  },
  {
   "cell_type": "markdown",
   "id": "0efabd1a",
   "metadata": {},
   "source": [
    "### 6.5 Create a table for the weather data for each region"
   ]
  },
  {
   "cell_type": "code",
   "execution_count": null,
   "id": "d3b54864",
   "metadata": {},
   "outputs": [],
   "source": [
    "table_name = f\"{chosencountry}_{chosenregion}_data\".lower()\n",
    "\n",
    "try:\n",
    "    # Connect to MySQL\n",
    "    con = msql.connect(host='localhost', database='weather', user='root', password='')\n",
    "\n",
    "    if con.is_connected():\n",
    "        cursor = con.cursor()\n",
    "        cursor.execute(\"SELECT DATABASE();\")\n",
    "        record = cursor.fetchone()\n",
    "        print(f\"You're connected to database: {record}\")\n",
    "        \n",
    "        # Drop the table if it exists\n",
    "        drop_query = f\"DROP TABLE IF EXISTS `{table_name}`\"\n",
    "        cursor.execute(drop_query)\n",
    "        print(f\"Table '{table_name}' dropped if it existed.\")\n",
    "        \n",
    "        # Create the table\n",
    "        create_query = f\"\"\"\n",
    "        CREATE TABLE `{table_name}` (\n",
    "            id VARCHAR(10) PRIMARY KEY, \n",
    "            station_id VARCHAR(10),\n",
    "            date DATE,\n",
    "            avg_temp DECIMAL(5,1), \n",
    "            min_temp DECIMAL(5,1),\n",
    "            max_temp DECIMAL(5,1),\n",
    "            month INT,\n",
    "            year YEAR\n",
    "        )\n",
    "        \"\"\"\n",
    "        cursor.execute(create_query)\n",
    "        print(f\"Table '{table_name}' is created successfully.\")\n",
    "\n",
    "except msql.Error as err:\n",
    "    print(err.msg)\n",
    "\n",
    "finally:\n",
    "    if con.is_connected():\n",
    "        cursor.close()\n",
    "        con.close()"
   ]
  },
  {
   "cell_type": "markdown",
   "id": "db79faab",
   "metadata": {},
   "source": [
    "Now the table needs to be populated with the data for each of the weather stations in the chosen country and region."
   ]
  },
  {
   "cell_type": "code",
   "execution_count": null,
   "id": "18edffcf",
   "metadata": {},
   "outputs": [],
   "source": [
    "table_name = f\"{chosencountry}_{chosenregion}_data\".lower()\n",
    "\n",
    "# Connect to the MySQL Database\n",
    "try:\n",
    "    con = msql.connect(host='localhost', database='weather', user='root', password='')\n",
    "    if con.is_connected():\n",
    "        cursor = con.cursor()\n",
    "        print(\"Connected to the database.\")\n",
    "\n",
    "        # Insert Data into MySQL Table\n",
    "        for station in station_ids:\n",
    "            print(f\"Processing station: {station}\")\n",
    "\n",
    "            # Download the file\n",
    "            url = f\"https://bulk.meteostat.net/v2/daily/{station}.csv.gz\"\n",
    "            response = requests.get(url)\n",
    "            response.raise_for_status()  # Ensure the request was successful\n",
    "\n",
    "            if response.status_code == 200:\n",
    "                # Read the CSV file into a DataFrame\n",
    "                stations_data = gzip.GzipFile(fileobj=BytesIO(response.content))\n",
    "                df = pd.read_csv(stations_data, usecols=[0, 1, 2, 3], names=['date', 'avg_temp', 'min_temp', 'max_temp'], parse_dates=['date'])\n",
    "                df.dropna(inplace=True)\n",
    "\n",
    "                # Add a station ID column\n",
    "                df['station_id'] = station\n",
    "\n",
    "                # Add month and year columns\n",
    "                df[\"year\"] = df[\"date\"].dt.year\n",
    "                df[\"month\"] = df[\"date\"].dt.month\n",
    "\n",
    "                counter = 0\n",
    "                for _, row in df.iterrows():\n",
    "                    # Create a unique ID for each row\n",
    "                    id = f\"{row['station_id']}_{counter}\"\n",
    "                    \n",
    "                    # Prepare SQL statement for data insertion\n",
    "                    sql_insert = f\"\"\"\n",
    "            INSERT INTO `{table_name}` (id, station_id, date, avg_temp, min_temp, max_temp, month, year) VALUES (%s, %s, %s, %s, %s, %s, %s, %s)\n",
    "        \"\"\"\n",
    "                    # Insert data into MySQL table\n",
    "                    cursor.execute(sql_insert,(\n",
    "                        id,\n",
    "                        row[\"station_id\"],\n",
    "                        row[\"date\"].date(),\n",
    "                        row.get(\"avg_temp\", None),\n",
    "                        row.get(\"min_temp\", None),\n",
    "                        row.get(\"max_temp\", None),\n",
    "                        row[\"month\"],\n",
    "                        row[\"year\"],\n",
    "                    ))\n",
    "                    counter += 1\n",
    "                con.commit()\n",
    "                print(f\"Data from station {station} inserted successfully.\")\n",
    "            else:\n",
    "                print(f\"Failed to download data for station: {station}\")\n",
    "except msql.Error as err:\n",
    "    print(f\"Error: {err}\")\n",
    "\n",
    "# Close the connection\n",
    "finally:\n",
    "    if con.is_connected():\n",
    "        cursor.close()\n",
    "        con.close()\n",
    "        print(\"MySQL connection is closed.\")\n",
    "\n",
    "\n",
    "\n",
    "\n"
   ]
  },
  {
   "cell_type": "markdown",
   "id": "93c52c3a-a81f-4f5d-8424-445a496eccc0",
   "metadata": {},
   "source": [
    "## 7. Analysing the weather data\n",
    "https://dev.meteostat.net/bulk/daily.html#endpoints"
   ]
  },
  {
   "cell_type": "markdown",
   "id": "0453b4ea-c8f6-4fc5-9ecd-34c9b93e71ab",
   "metadata": {},
   "source": [
    "### 7.1 Average the temperature data by month\n",
    "\n",
    "First get the user to select a station id\n"
   ]
  },
  {
   "cell_type": "code",
   "execution_count": 89,
   "id": "fcdc0728",
   "metadata": {},
   "outputs": [],
   "source": [
    "\n",
    "chosencountry = input(str(\"Enter the country of interest, using the two digit code: \"))\n",
    "chosenregion = input(str(\"Enter the region of interest, using the two digit code: \"))\n"
   ]
  },
  {
   "cell_type": "markdown",
   "id": "c7b630a6",
   "metadata": {},
   "source": [
    "Use this choice to extract the daily average temperature data for the station of interest from the database."
   ]
  },
  {
   "cell_type": "code",
   "execution_count": null,
   "id": "363e9184",
   "metadata": {},
   "outputs": [],
   "source": [
    "table_name = f\"{chosencountry}_{chosenregion}_data\".lower()\n",
    "\n",
    "con = None\n",
    "try:\n",
    "    # Connect to the database\n",
    "    con = msql.connect(host='localhost', database='weather', user='root', password='')\n",
    "    if con.is_connected():\n",
    "        cursor = con.cursor()\n",
    "        \n",
    "        #Request user to input the station ID\n",
    "        chosenstation = input(str(\"Enter the station ID of interest: \").strip().upper())\n",
    "        \n",
    "        if chosenstation in station_ids:\n",
    "            print(f\"Station {chosenstation} is available.\")\n",
    "        else:\n",
    "            print(f\"Please choose from one of the following station IDs: {station_ids}\")\n",
    "        \n",
    "        # Execute the SQL query\n",
    "        query =f\"SELECT date, avg_temp, min_temp, max_temp, month, year FROM `{table_name}` WHERE station_id = %s\"\n",
    "        cursor.execute(query, (chosenstation,))\n",
    "        rows = cursor.fetchall()\n",
    "        \n",
    "        # Create a DataFrame\n",
    "        df= pd.DataFrame(rows)\n",
    "        df.columns=['date', 'avg_temp', 'min_temp', 'max_temp', 'month', 'year']\n",
    "        \n",
    "        # Print the first 5 rows\n",
    "        print(df.head(5))\n",
    "\n",
    "except msql.Error as err: \n",
    "    print(err)\n",
    "\n",
    "finally:\n",
    "    if con and con.is_connected():\n",
    "        cursor.close()\n",
    "        con.close()"
   ]
  },
  {
   "cell_type": "markdown",
   "id": "aee8a2f3-f2e1-4402-af6b-42ac1a1b1b96",
   "metadata": {},
   "source": [
    "### 7.2 Plot the data for the average temperature\n"
   ]
  },
  {
   "cell_type": "code",
   "execution_count": null,
   "id": "3e8a57f4",
   "metadata": {},
   "outputs": [],
   "source": [
    "# Group by year and month, then calculate the average temperature for each month\n",
    "monthly_avg = df.groupby([\"year\", \"month\"])[\"avg_temp\"].mean().reset_index()\n",
    "\n",
    "# Plot the data\n",
    "plt.figure(figsize=(12, 6))\n",
    "years = monthly_avg[\"year\"].unique()\n",
    "\n",
    "# Draw a horizontal line at y_value\n",
    "plt.axhline(y=lettuce_range1, color='r', linestyle='--', label=f'y = Lower optimal growth limit for lettuce: {lettuce_range1}')\n",
    "plt.axhline(y=lettuce_range2, color='r', linestyle='--', label=f'y = Upper optimal growth limit for lettuce: {lettuce_range2}')\n",
    "plt.axhline(y=lettuce_min, color='b', linestyle='--', label=f'y = Damage limit for lettuce: {lettuce_min}')\n",
    "for year in years:\n",
    "    year_data = monthly_avg[monthly_avg[\"year\"] == year]\n",
    "    plt.plot(year_data[\"month\"], year_data[\"avg_temp\"], marker=\"o\", label=str(year))\n",
    "\n",
    "\n",
    "plt.title(f\"Average Monthly Temperature for Station {chosenstation} in {chosencountry} - {chosenregion}\")\n",
    "plt.xlabel(\"Month\")\n",
    "plt.ylabel(\"Average Temperature (°C)\")\n",
    "plt.xticks(range(1, 13), [\"Jan\", \"Feb\", \"Mar\", \"Apr\", \"May\", \"Jun\", \"Jul\", \"Aug\", \"Sep\", \"Oct\", \"Nov\", \"Dec\"])\n",
    "plt.legend(title=\"Year\", loc=\"best\", bbox_to_anchor=(1, 1))\n",
    "plt.grid(True)\n",
    "plt.show()\n"
   ]
  },
  {
   "cell_type": "markdown",
   "id": "adc72af5",
   "metadata": {},
   "source": [
    "### 7.3 Average minimum temperatures"
   ]
  },
  {
   "cell_type": "code",
   "execution_count": null,
   "id": "81d66b48",
   "metadata": {},
   "outputs": [],
   "source": [
    "df.dropna(subset=['min_temp'], inplace=True)\n",
    "# Group by year and month, then calculate the minimum average temperature for each month\n",
    "min_monthly_avg = df.groupby([\"year\", \"month\"])[\"min_temp\"].mean().reset_index()\n",
    "\n",
    "# Plot the data\n",
    "plt.figure(figsize=(12, 6))\n",
    "years = min_monthly_avg[\"year\"].unique()\n",
    "\n",
    "# Draw a horizontal line at y_value\n",
    "plt.axhline(y=lettuce_range1, color='r', linestyle='--', label=f'y = Lower optimal growth limit for lettuce: {lettuce_range1}')\n",
    "plt.axhline(y=lettuce_min, color='b', linestyle='--', label=f'y = Damage limit for lettuce: {lettuce_min}')\n",
    "\n",
    "# Plot the data\n",
    "for year in years:\n",
    "    year_data = min_monthly_avg[min_monthly_avg[\"year\"] == year]\n",
    "    plt.plot(year_data[\"month\"], year_data[\"min_temp\"], marker=\"o\", label=str(year))\n",
    "\n",
    "\n",
    "plt.title(f\"Average Minimum Monthly Temperature for Station {chosenstation} in {chosencountry} - {chosenregion}\")\n",
    "plt.xlabel(\"Month\")\n",
    "plt.ylabel(\"Average Minimum Temperature (°C)\")\n",
    "plt.xticks(range(1, 13), [\"Jan\", \"Feb\", \"Mar\", \"Apr\", \"May\", \"Jun\", \"Jul\", \"Aug\", \"Sep\", \"Oct\", \"Nov\", \"Dec\"])\n",
    "plt.legend(title=\"Year\", loc=\"best\", bbox_to_anchor=(1, 1))\n",
    "plt.grid(True)\n",
    "plt.show()"
   ]
  },
  {
   "cell_type": "markdown",
   "id": "002ceb65",
   "metadata": {},
   "source": [
    "## 7.4 Using Scikit Learn to predict the weather\n",
    "https://scikit-learn.org/stable/auto_examples/linear_model/plot_ols.html#sphx-glr-auto-examples-linear-model-plot-ols-py"
   ]
  },
  {
   "cell_type": "code",
   "execution_count": null,
   "id": "318fbe6e",
   "metadata": {},
   "outputs": [],
   "source": [
    "from sklearn.ensemble import RandomForestRegressor\n",
    "from sklearn.model_selection import train_test_split\n",
    "from sklearn.metrics import mean_squared_error\n",
    "from datetime import timedelta\n",
    "\n",
    "# Prepare Features\n",
    "df['date'] = pd.to_datetime(df['date'])\n",
    "df['day_of_year'] = df['date'].dt.dayofyear\n",
    "#df['year'] = df['date'].dt.year\n",
    "\n",
    "# Features: Day of the year and year; Target: Average temperature\n",
    "X = df[['day_of_year', 'year']]\n",
    "y = df['avg_temp']\n",
    "\n",
    "# Step 4: Train/Test Split\n",
    "X_train, X_test, y_train, y_test = train_test_split(X, y, test_size=0.2, random_state=42)\n",
    "\n",
    "# Step 5: Train Model\n",
    "model = RandomForestRegressor(random_state=42, n_estimators=100)\n",
    "model.fit(X_train, y_train)\n",
    "\n",
    "# Step 6: Evaluate Model\n",
    "y_pred = model.predict(X_test)\n",
    "rmse = np.sqrt(mean_squared_error(y_test, y_pred))\n",
    "print(f\"Root Mean Squared Error: {rmse:.2f}°C\")\n",
    "\n",
    "# Step 7: Predict for Next 5 Years\n",
    "future_years = pd.date_range(start=df['date'].max() + timedelta(days=1), \n",
    "                             periods=5 * 365, freq='D')\n",
    "future_df = pd.DataFrame({\n",
    "    'date': future_years,\n",
    "    'day_of_year': future_years.day_of_year,\n",
    "    'year': future_years.year\n",
    "})\n",
    "future_predictions = model.predict(future_df[['day_of_year', 'year']])\n",
    "future_df['predicted_tavg'] = future_predictions\n",
    "\n",
    "# Step 8: Plot Known Data and Predictions\n",
    "plt.figure(figsize=(14, 7))\n",
    "\n",
    "# Plot historical data\n",
    "plt.plot(df['date'], df['avg_temp'], label='Historical Data', alpha=0.6)\n",
    "\n",
    "# Plot predictions\n",
    "plt.plot(future_df['date'], future_df['predicted_tavg'], label='Predictions', alpha=0.8)\n",
    "\n",
    "plt.title(f'Historical and Predicted Average Temperatures for station {chosenstation} in {chosencountry} - {chosenregion}')\n",
    "plt.xlabel('Date')\n",
    "plt.ylabel('Average Temperature (°C)')\n",
    "plt.legend()\n",
    "plt.grid()\n",
    "plt.show()\n",
    "\n",
    "# Step 9: Save Predictions\n",
    "future_df.to_csv('predicted_temperatures.csv', index=False)\n",
    "print(f\"Predictions saved to 'predicted_temperatures.csv'\")"
   ]
  },
  {
   "cell_type": "markdown",
   "id": "b3a9fd9c",
   "metadata": {},
   "source": [
    "## 8. Analysing the impact of thermal curtains on temperature\n",
    "\n",
    "\n"
   ]
  },
  {
   "cell_type": "code",
   "execution_count": null,
   "id": "c9a1657d",
   "metadata": {},
   "outputs": [],
   "source": [
    "# Calculate the number of cold days per month and year\n",
    "cold_days_count = (df.groupby([\"year\", \"month\"]).size().reset_index(name=\"cold_days_count\"))\n",
    "\n",
    "# Print the results\n",
    "print(cold_days_count)\n",
    "\n"
   ]
  },
  {
   "cell_type": "markdown",
   "id": "5e78a35e",
   "metadata": {},
   "source": [
    "### 8.1 Calculate the impact of the thermal curtains\n",
    "\n"
   ]
  },
  {
   "cell_type": "code",
   "execution_count": null,
   "id": "8f8dcf05",
   "metadata": {},
   "outputs": [],
   "source": [
    "print(f)"
   ]
  },
  {
   "cell_type": "code",
   "execution_count": null,
   "id": "0a2c2e20",
   "metadata": {},
   "outputs": [],
   "source": [
    "# Define the regression function\n",
    "def f(temp):\n",
    "    # Ensure temp is converted to a float for compatibility\n",
    "    temp = float(temp)\n",
    "    return 0.03538656 * temp**2 + 0.70891686 * temp + 6.14413969\n",
    "\n",
    "# Convert min_temp column to float if necessary\n",
    "df[\"avg_temp\"] = df[\"avg_temp\"].astype(float)\n",
    "\n",
    "# Generate prediction for the internal temperature\n",
    "df[\"temp_curtains\"] = df[\"avg_temp\"].apply(f)\n",
    "\n",
    "# Identify cold days where temperature is below the threshold\n",
    "df[\"cold_days_curtains\"] = df[\"temp_curtains\"] < lettuce_range1\n",
    "\n",
    "# Display results\n",
    "print(df.head())\n",
    "\n",
    "# Filter and print rows where cold days are identified\n",
    "cold_days_count_thermal = df[df[\"cold_days_curtains\"]]\n",
    "print(cold_days_count_thermal)\n"
   ]
  },
  {
   "cell_type": "code",
   "execution_count": null,
   "id": "c15ed275",
   "metadata": {},
   "outputs": [],
   "source": [
    "# Ensure 'date' is in datetime format\n",
    "df[\"date\"] = pd.to_datetime(df[\"date\"])\n",
    "\n",
    "# Group by year and month, and count the number of occurrences\n",
    "cold_days_count_thermal = cold_days_count_thermal.groupby([\"year\", \"month\"]).size().reset_index(name=\"cold_days_count_thermal\")\n",
    "\n",
    "# Display the result\n",
    "print(cold_days_count_thermal)"
   ]
  },
  {
   "cell_type": "code",
   "execution_count": null,
   "id": "a6b3c0bb",
   "metadata": {},
   "outputs": [],
   "source": [
    "# Merge both results into a single DataFrame\n",
    "result = pd.merge(\n",
    "    cold_days_count,\n",
    "    cold_days_count_thermal,\n",
    "    on=[\"year\", \"month\"],\n",
    "    how=\"outer\",\n",
    ").fillna(0)  # Fill NaN with 0 for months with no cold days\n",
    "\n",
    "# Calculate extra growing days\n",
    "result[\"extra_days\"] = result[\"cold_days_count\"] - result[\"cold_days_count_thermal\"]\n",
    "\n",
    "# Group by year and sum the extra growing days\n",
    "extra_growing_days_by_year = result.groupby(\"year\")[\"extra_days\"].sum().reset_index()\n",
    "\n",
    "# Rename columns for clarity\n",
    "extra_growing_days_by_year.rename(columns={\"extra_days\": \"total_extra_days\"}, inplace=True)\n",
    "\n",
    "# Display the result\n",
    "print(extra_growing_days_by_year)"
   ]
  },
  {
   "cell_type": "code",
   "execution_count": null,
   "id": "4be26508",
   "metadata": {},
   "outputs": [],
   "source": [
    "plt.bar(extra_growing_days_by_year[\"year\"], extra_growing_days_by_year[\"total_extra_days\"])\n",
    "plt.title(\"Extra Growing Days per Year\")\n",
    "plt.xlabel(\"Year\")\n",
    "plt.ylabel(\"Extra Growing Days when using thermal curtains\")\n",
    "plt.show()"
   ]
  },
  {
   "cell_type": "markdown",
   "id": "f51788db",
   "metadata": {},
   "source": [
    "### 8.2 Plot the extra growing days by month and year"
   ]
  },
  {
   "cell_type": "code",
   "execution_count": null,
   "id": "94bff918",
   "metadata": {},
   "outputs": [],
   "source": [
    "# Plot the data\n",
    "for year in years:\n",
    "    year_data = result[result[\"year\"] == year]\n",
    "    plt.plot(year_data[\"month\"], year_data[\"extra_days\"], marker=\"o\", label=str(year))\n",
    "\n",
    "plt.xticks(range(1, 13), [\"Jan\", \"Feb\", \"Mar\", \"Apr\", \"May\", \"Jun\", \"Jul\", \"Aug\", \"Sep\", \"Oct\", \"Nov\", \"Dec\"])\n",
    "plt.title(\"Extra Growing Days per Month when Using Thermal Curtains\")\n",
    "plt.xlabel(\"Month\")\n",
    "plt.ylabel(\"Extra Growing Days per month\")\n",
    "plt.legend(title=\"Year\", loc=\"best\", bbox_to_anchor=(1, 1))\n",
    "plt.show()"
   ]
  },
  {
   "cell_type": "code",
   "execution_count": null,
   "id": "6fa49d67",
   "metadata": {},
   "outputs": [],
   "source": [
    "print(result)\n",
    "\n",
    "# Add a column for 5-year bins\n",
    "result[\"5_year_period\"] = (result[\"year\"] // 5) * 5\n",
    "\n",
    "# Calculate the 5-year average for each month\n",
    "monthly_averages = (\n",
    "    result.groupby([\"5_year_period\", \"month\"])[\"extra_days\"]\n",
    "    .mean()\n",
    "    .reset_index()\n",
    ")\n",
    "\n",
    "# Pivot the data for easier plotting\n",
    "pivot_table = monthly_averages.pivot(index=\"month\", columns=\"5_year_period\", values=\"extra_days\")\n",
    "\n",
    "# Plot the chart\n",
    "plt.figure(figsize=(12, 6))\n",
    "\n",
    "# Plot each 5-year period as a line\n",
    "for period in pivot_table.columns:\n",
    "    plt.plot(\n",
    "        pivot_table.index,\n",
    "        pivot_table[period],\n",
    "        label=f\"{period}-{period + 4}\"\n",
    "    )\n",
    "\n",
    "# Customize the plot\n",
    "plt.xlabel(\"Month\")\n",
    "plt.ylabel(\"Average Extra Growing Days\")\n",
    "plt.title(\"5-Year Average of Extra Growing Days by Month\")\n",
    "plt.xticks(ticks=range(1, 13), labels=[\n",
    "    \"Jan\", \"Feb\", \"Mar\", \"Apr\", \"May\", \"Jun\", \n",
    "    \"Jul\", \"Aug\", \"Sep\", \"Oct\", \"Nov\", \"Dec\"\n",
    "])\n",
    "plt.legend(title=\"5-Year Period\")\n",
    "plt.grid(axis=\"y\", linestyle=\"--\", alpha=0.7)\n",
    "plt.show()\n"
   ]
  },
  {
   "cell_type": "markdown",
   "id": "e6c13336-0325-4cc4-9e46-cead968cff74",
   "metadata": {},
   "source": [
    "## Sci Kit Learn\n",
    "https://www.askpython.com/python/examples/weather-data-clustering"
   ]
  },
  {
   "cell_type": "code",
   "execution_count": null,
   "id": "38d44408",
   "metadata": {},
   "outputs": [],
   "source": [
    "table_name = f\"{chosencountry}_{chosenregion}_data\".lower()\n",
    "\n",
    "try:\n",
    "    # Connect to the database\n",
    "    con = msql.connect(host='localhost', database='weather', user='root', password='')\n",
    "    if con.is_connected():\n",
    "        cursor = con.cursor()\n",
    "                \n",
    "        # Execute the SQL query\n",
    "        query =f\"SELECT id, date, avg_temp, min_temp, max_temp, month, year FROM `{table_name}` WHERE station_id = %s\"\n",
    "        cursor.execute(query, (chosenstation,))\n",
    "        rows = cursor.fetchall()\n",
    "        \n",
    "        # Create a DataFrame\n",
    "        df= pd.DataFrame(rows)\n",
    "        df.columns=['id', 'date', 'avg_temp', 'min_temp', 'max_temp','month', 'year']\n",
    "        \n",
    "        # Print the first 5 rows\n",
    "        print(df.head(5))\n",
    "\n",
    "except msql.Error as err: \n",
    "    print(err)\n",
    "\n",
    "finally:\n",
    "    if con.is_connected():\n",
    "        cursor.close()\n",
    "        con.close()"
   ]
  },
  {
   "cell_type": "markdown",
   "id": "f79d3f81",
   "metadata": {},
   "source": [
    "https://www.askpython.com/python/examples/weather-data-clustering"
   ]
  },
  {
   "cell_type": "code",
   "execution_count": null,
   "id": "f18df94c-780c-4643-a470-959f8c41b8ea",
   "metadata": {},
   "outputs": [],
   "source": [
    "from sklearn.preprocessing import StandardScaler\n",
    "from sklearn.cluster import KMeans\n",
    "from itertools import cycle, islice\n",
    "from pandas.plotting import parallel_coordinates\n",
    "\n",
    "# Select every 10th row for faster processing\n",
    "\n",
    "df.dropna(inplace=True)\n",
    "sampled_df = df.iloc[::10]\n",
    "sampled_df.shape\n",
    "\n",
    "# Select features for clustering\n",
    "features = ['avg_temp', 'min_temp', 'max_temp']\n",
    "selected_df = sampled_df[features]\n",
    "\n",
    "# Standardize the features\n",
    "X = StandardScaler().fit_transform(selected_df)\n",
    "\n",
    "# Apply KMenas clustering\n",
    "KM = KMeans(n_clusters=10)\n",
    "model = KM.fit(X)\n",
    "centers = model.cluster_centers_\n",
    "\n",
    "# Visualize the clusters\n",
    "\n",
    "# 1. Function that generates a DataFrame with a Cluster Number column.\n",
    " \n",
    "def pd_centers(featuresUsed, centers):\n",
    "    colNames = list(featuresUsed)\n",
    "    colNames.append('prediction')\n",
    "    Z = [np.append(A, index) for index, A in enumerate(centers)]\n",
    "    P = pd.DataFrame(Z, columns=colNames)\n",
    "    P['prediction'] = P['prediction'].astype(int)\n",
    "    return P\n",
    " \n",
    "# 2. Function that creates Parallel Plots\n",
    " \n",
    "def parallel_plot(data):\n",
    "    my_colors = list(islice(cycle(['b', 'r', 'g', 'y', 'k']), None, len(data)))\n",
    "    plt.figure(figsize=(15,8)).gca().axes.set_ylim([-3,+3])\n",
    "    parallel_coordinates(data, 'prediction', color = my_colors, marker='o')\n",
    " \n",
    "P = pd_centers(features, centers)\n",
    "\n",
    "parallel_plot(P[P['min_temp'] < lettuce_range1])\n",
    "parallel_plot(P[P['avg_temp'] < lettuce_range1])"
   ]
  },
  {
   "cell_type": "markdown",
   "id": "2affdaa4",
   "metadata": {},
   "source": [
    "### Thermal curtains\n",
    "\n",
    "The data in the below has been changed to help protect the intellectual property. Many plant crops scorch and reduce their efficiency at temperatures over 23 degrees and the traditional approach has been to whitewash growhouses. Unfortunately, this white washing is not easily removed, so whitewashes are applied at the beginning of the summer and washed off at the end, this means if there is a run of poor weather in summer the plants can't be productive and if there is good weather outside of summer the plants scorch. "
   ]
  },
  {
   "cell_type": "code",
   "execution_count": null,
   "id": "f60361ba",
   "metadata": {},
   "outputs": [],
   "source": [
    "# Highlight data for days with maximimum temperature over the optimum for lettuce > 23 degrees and proximity to minimum temperature below the optimum for lettuce\n",
    "\n",
    "# Identify hot days\n",
    "df[\"hot_days\"] = df[\"max_temp\"] > lettuce_range2\n",
    "\n",
    "# Identify cold days\n",
    "df[\"cold_days\"] = df[\"min_temp\"] < lettuce_range1\n",
    "\n",
    "# Identify hot days near cold days\n",
    "df[\"cold_within_5\"] = df[\"cold_days\"].rolling(window=5, min_periods=1).max().shift(-4).fillna(0).astype(bool)\n",
    "\n",
    "df[\"hot_near_cold\"] = df[\"hot_days\"] & df[\"cold_within_5\"]\n",
    "\n",
    "# Group by both year and month to count hot days and hot days near cold days\n",
    "highlight_summary = df.groupby([\"year\", \"month\"]).agg(\n",
    "    total_hot_days=(\"hot_days\", \"sum\"),\n",
    "    hot_near_cold_days=(\"hot_near_cold\", \"sum\")\n",
    ").reset_index()\n",
    "\n",
    "# Print summary to verify\n",
    "print(highlight_summary.head())\n",
    "\n",
    "# Plot hot days and hot days near cold days\n",
    "plt.figure(figsize=(12, 6))\n",
    "for year in highlight_summary[\"year\"].unique():\n",
    "    year_data = highlight_summary[highlight_summary[\"year\"] == year]\n",
    "    #plt.plot(year_data[\"month\"], year_data[\"total_hot_days\"], marker=\"o\", label=f\"Hot Days {year}\")\n",
    "    plt.plot(year_data[\"month\"], year_data[\"hot_near_cold_days\"], marker=\"x\", label=f\"Hot Near Cold {year}\")\n",
    "\n",
    "plt.title(f\"Monthly Hot Near Cold Days for {chosenstation} in {chosencountry} - {chosenregion}\")\n",
    "plt.xlabel(\"Month\")\n",
    "plt.ylabel(\"Number of Hot Near Cold Days\")\n",
    "plt.xticks(range(1, 13), [\"Jan\", \"Feb\", \"Mar\", \"Apr\", \"May\", \"Jun\", \"Jul\", \"Aug\", \"Sep\", \"Oct\", \"Nov\", \"Dec\"])\n",
    "plt.legend(title=\"Year\", loc=\"best\", bbox_to_anchor=(1, 1))\n",
    "plt.grid(True)\n",
    "plt.show()"
   ]
  },
  {
   "cell_type": "markdown",
   "id": "77d63a85",
   "metadata": {},
   "source": [
    "[(1)]https://dev.meteostat.net/\n",
    "[(2)] https://content.ces.ncsu.edu/lettuce\n",
    "[(3)] https://drygair.com/blog/what-are-the-ideal-conditions-for-greenhouse-tomatoes/\n",
    "https://www.askpython.com/python/examples/weather-data-clustering\n",
    "\n",
    "https://esciencecenter-digital-skills.github.io/lesson-machine-learning-intro/02-data-exploration.html"
   ]
  }
 ],
 "metadata": {
  "kernelspec": {
   "display_name": "base",
   "language": "python",
   "name": "python3"
  },
  "language_info": {
   "codemirror_mode": {
    "name": "ipython",
    "version": 3
   },
   "file_extension": ".py",
   "mimetype": "text/x-python",
   "name": "python",
   "nbconvert_exporter": "python",
   "pygments_lexer": "ipython3",
   "version": "3.12.8"
  }
 },
 "nbformat": 4,
 "nbformat_minor": 5
}
