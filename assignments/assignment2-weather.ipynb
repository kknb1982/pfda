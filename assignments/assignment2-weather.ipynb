{
 "cells": [
  {
   "cell_type": "code",
   "execution_count": 3,
   "id": "ff677af4-cf25-47c2-9005-1be435a71372",
   "metadata": {},
   "outputs": [],
   "source": [
    "FILENAME = \"weatherreadings1.csv\"\n",
    "DATADIR = \"C:/Users/kirst/OneDrive - Atlantic TU/pfda/PFDA-courseware/assignment/\""
   ]
  },
  {
   "cell_type": "code",
   "execution_count": 4,
   "id": "cb870722-f5ee-4ec5-9029-e23e7de79c90",
   "metadata": {
    "scrolled": true
   },
   "outputs": [],
   "source": [
    "import pandas as pd\n",
    "import matplotlib.pyplot as plt"
   ]
  },
  {
   "cell_type": "code",
   "execution_count": 5,
   "id": "779695f0-9c4c-41be-b1bd-798fd8ed561c",
   "metadata": {},
   "outputs": [],
   "source": [
    "df = pd.read_csv (DATADIR + FILENAME)"
   ]
  },
  {
   "cell_type": "code",
   "execution_count": 6,
   "id": "9a253f50-a511-472a-8182-f53dde1fe5db",
   "metadata": {},
   "outputs": [],
   "source": [
    "x = df['dryBulbTemperature_Celsius']\n",
    "y = df['reportEndDateTime']"
   ]
  },
  {
   "cell_type": "code",
   "execution_count": null,
   "id": "fd030648",
   "metadata": {},
   "outputs": [],
   "source": [
    "plt.plot(x,y)"
   ]
  }
 ],
 "metadata": {
  "kernelspec": {
   "display_name": "base",
   "language": "python",
   "name": "python3"
  },
  "language_info": {
   "codemirror_mode": {
    "name": "ipython",
    "version": 3
   },
   "file_extension": ".py",
   "mimetype": "text/x-python",
   "name": "python",
   "nbconvert_exporter": "python",
   "pygments_lexer": "ipython3",
   "version": "3.12.4"
  }
 },
 "nbformat": 4,
 "nbformat_minor": 5
}
