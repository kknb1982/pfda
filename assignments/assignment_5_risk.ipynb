{
 "cells": [
  {
   "cell_type": "markdown",
   "id": "7e1bb1b2",
   "metadata": {},
   "source": [
    "# Assignment 5: Rolling a dice to \n",
    "I love the board game Risk.\n",
    "\n",
    "Write a program (or notebook) called assignment_5_risk (.py or .ipynb)\n",
    "\n",
    "The program should simulates 1000 individual battle rounds in Risk (3 attacker vs 2 defender) and plots the result.\n",
    "\n",
    "One battle round is one shake of the attacker and defender dice.\n",
    "\n",
    "I am being vague about what it plot, I will leave that to you.\n",
    "\n",
    "For the last few marks.\n",
    "\n",
    "A more complicated version simulates a full series of rounds for armies of arbitrary sizes, until one side is wiped out,\n",
    "\n",
    "and plots the results.\n",
    "\n",
    "(This is open ended, so it is only for the last few marks)\n",
    "\n",
    "Rules of Risk\n",
    "\n",
    "In Risk one army fights another. (using 6 sided dice)\n",
    "\n",
    "In each battle round, the attacker can put forward up to three of their troops (3 dice).\n",
    "\n",
    "The defender can use up to two of their defending troops (2 dice).\n",
    "\n",
    "Each side looses troops depending on the following rules:\n",
    "\n",
    "The two top dice dice are compared (ie the attackers top dice roll with the defenders top dice roll) \n",
    "If the attackers dice is the same or lower they loose one troop otherwise the defender looses a troop (ie if the attackers dice is higher)\n",
    "The next two highest dice from each side are then compared (ie the attackers second highest to the defenders second highest)\n",
    "If the attackers dice is the same or lower they loose one troop otherwise the defender looses a troop (ie if the attackers dice is higher)\n",
    "\n",
    "\n",
    "Examples\n",
    "Attacker rolls\tDefender Rolls\tAttacker Loses\tDefender Loses\tExplanation\n",
    "6,4,1\t5,3\t0\t2\t6 beats 5 and 4 beats 3 (the one is ignored as the lowest)\n",
    "6,6,6\t6,3\t1\t1\tDefenders 6 beats the attackers first 6\n",
    "and the attackers second 6 beats the defenders 3\n",
    "5,4,4\t5,4\t2\t0\tThe defenders 5 beat the attackers 5\n",
    "and the defenders 4 beat the attackers 4\n",
    "(defender wins when the dice are the same)\n",
    "See the rules How to play Risk | Official Rules | UltraBoardGames\n",
    "search \"to decide a battle\"."
   ]
  },
  {
   "cell_type": "markdown",
   "id": "d605ddcc",
   "metadata": {},
   "source": [
    "To use Numpy import `numpy`"
   ]
  },
  {
   "cell_type": "code",
   "execution_count": 11,
   "id": "64670e4c",
   "metadata": {},
   "outputs": [],
   "source": [
    "import numpy as np"
   ]
  },
  {
   "cell_type": "markdown",
   "id": "d0cb2fab",
   "metadata": {},
   "source": [
    "To generate the random number to represent the die we can create a variable `rng` to call the numpy random number generator. Then use `rng` with the syntax to set the parameters for the random number generator, low sets the lower limit, high the maximum and size the number to be generated. I am using `rng.uniform` as there is an equal chance of each number showing on the die."
   ]
  },
  {
   "cell_type": "code",
   "execution_count": null,
   "id": "51c07886",
   "metadata": {},
   "outputs": [
    {
     "name": "stdout",
     "output_type": "stream",
     "text": [
      "[1 1 3]\n",
      "[4 1]\n"
     ]
    }
   ],
   "source": [
    "rng = np.random.default_rng()\n",
    "\n"
   ]
  },
  {
   "cell_type": "code",
   "execution_count": null,
   "id": "5d55d721",
   "metadata": {},
   "outputs": [],
   "source": [
    "defender_throw = rng.integers(low=1, high=6, size=3)\n",
    "defender_throw = np.sort(defender_throw)\n",
    "attacker_throw = rng.integers(low=1, high=6, size=2)\n",
    "np.sort(attacker_throw)\n",
    "\n",
    "print(defender_throw)\n",
    "print(attacker_throw)"
   ]
  },
  {
   "cell_type": "code",
   "execution_count": null,
   "id": "30f20ce3",
   "metadata": {},
   "outputs": [
    {
     "data": {
      "text/plain": [
       "array([2.97835484, 4.86922725, 4.52737942])"
      ]
     },
     "execution_count": 9,
     "metadata": {},
     "output_type": "execute_result"
    }
   ],
   "source": [
    "\n",
    "rng = np.random.default_rng()\n",
    " \n",
    "defender = 40\n",
    "attacker = 40\n",
    "\n",
    "np.random.uniform(low=1, high=6, size =3)"
   ]
  }
 ],
 "metadata": {
  "kernelspec": {
   "display_name": "base",
   "language": "python",
   "name": "python3"
  },
  "language_info": {
   "codemirror_mode": {
    "name": "ipython",
    "version": 3
   },
   "file_extension": ".py",
   "mimetype": "text/x-python",
   "name": "python",
   "nbconvert_exporter": "python",
   "pygments_lexer": "ipython3",
   "version": "3.12.4"
  }
 },
 "nbformat": 4,
 "nbformat_minor": 5
}
